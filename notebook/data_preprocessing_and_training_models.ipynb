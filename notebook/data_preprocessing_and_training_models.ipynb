{
 "cells": [
  {
   "cell_type": "markdown",
   "metadata": {},
   "source": [
    "# NBA Game Prediction Model\n",
    "\n",
    "This notebook implements machine learning models to predict NBA game outcomes using historical game data and advanced statistics."
   ]
  },
  {
   "cell_type": "markdown",
   "metadata": {},
   "source": [
    "## Data Pipeline"
   ]
  },
  {
   "cell_type": "markdown",
   "metadata": {},
   "source": [
    "### Initial Setup\n",
    "Required libraries and configurations for data processing and model training."
   ]
  },
  {
   "cell_type": "code",
   "execution_count": 1,
   "metadata": {},
   "outputs": [],
   "source": [
    "# Standard libraries\n",
    "import warnings\n",
    "import joblib\n",
    "import json\n",
    "\n",
    "# Data analysis\n",
    "import pandas as pd\n",
    "import numpy as np\n",
    "\n",
    "# Visualization\n",
    "import matplotlib.pyplot as plt\n",
    "import seaborn as sns\n",
    "from livelossplot import PlotLossesKeras\n",
    "\n",
    "# Data preprocessing & evaluation\n",
    "from sklearn.preprocessing import MinMaxScaler\n",
    "from sklearn.decomposition import PCA\n",
    "from sklearn.model_selection import train_test_split\n",
    "from sklearn.metrics import (accuracy_score,f1_score,recall_score,precision_score,roc_auc_score,log_loss,brier_score_loss,confusion_matrix)\n",
    "from sklearn import set_config\n",
    "\n",
    "# Machine learning models\n",
    "from xgboost import XGBClassifier\n",
    "\n",
    "# Deep learning (Keras / TensorFlow)\n",
    "from keras import Sequential\n",
    "from tensorflow.keras.layers import InputLayer, Dense, Dropout, BatchNormalization\n",
    "from tensorflow.keras.optimizers import Adam\n",
    "from tensorflow.keras.callbacks import EarlyStopping\n",
    "\n",
    "# Custom modules\n",
    "from calculations import scrap_games\n",
    "\n",
    "warnings.filterwarnings('ignore')"
   ]
  },
  {
   "cell_type": "markdown",
   "metadata": {},
   "source": [
    "### Data Loading and Initial Preprocessing"
   ]
  },
  {
   "cell_type": "markdown",
   "metadata": {},
   "source": [
    "Loading historical NBA game data from CSV"
   ]
  },
  {
   "cell_type": "code",
   "execution_count": null,
   "metadata": {},
   "outputs": [],
   "source": [
    "df = pd.read_csv('game.csv')"
   ]
  },
  {
   "cell_type": "markdown",
   "metadata": {},
   "source": [
    "Adding current season's games through web scraping and merging data into one data frame"
   ]
  },
  {
   "cell_type": "code",
   "execution_count": null,
   "metadata": {},
   "outputs": [],
   "source": [
    "df2 = scrap_games()\n",
    "df2['game_id'] = df2['game_id'].astype(int)\n",
    "df = pd.concat([df,df2])\n",
    "df = df.drop_duplicates(subset=['game_id'])\n",
    "df = df.reset_index(drop=True)"
   ]
  },
  {
   "cell_type": "code",
   "execution_count": 4,
   "metadata": {},
   "outputs": [
    {
     "data": {
      "application/vnd.microsoft.datawrangler.viewer.v0+json": {
       "columns": [
        {
         "name": "index",
         "rawType": "int64",
         "type": "integer"
        },
        {
         "name": "season_id",
         "rawType": "object",
         "type": "unknown"
        },
        {
         "name": "team_id_home",
         "rawType": "int64",
         "type": "integer"
        },
        {
         "name": "team_abbreviation_home",
         "rawType": "object",
         "type": "string"
        },
        {
         "name": "team_name_home",
         "rawType": "object",
         "type": "string"
        },
        {
         "name": "game_id",
         "rawType": "int64",
         "type": "integer"
        },
        {
         "name": "game_date",
         "rawType": "object",
         "type": "string"
        },
        {
         "name": "matchup_home",
         "rawType": "object",
         "type": "string"
        },
        {
         "name": "wl_home",
         "rawType": "object",
         "type": "string"
        },
        {
         "name": "min",
         "rawType": "float64",
         "type": "float"
        },
        {
         "name": "fgm_home",
         "rawType": "float64",
         "type": "float"
        },
        {
         "name": "fga_home",
         "rawType": "float64",
         "type": "float"
        },
        {
         "name": "fg_pct_home",
         "rawType": "float64",
         "type": "float"
        },
        {
         "name": "fg3m_home",
         "rawType": "float64",
         "type": "float"
        },
        {
         "name": "fg3a_home",
         "rawType": "float64",
         "type": "float"
        },
        {
         "name": "fg3_pct_home",
         "rawType": "float64",
         "type": "float"
        },
        {
         "name": "ftm_home",
         "rawType": "float64",
         "type": "float"
        },
        {
         "name": "fta_home",
         "rawType": "float64",
         "type": "float"
        },
        {
         "name": "ft_pct_home",
         "rawType": "float64",
         "type": "float"
        },
        {
         "name": "oreb_home",
         "rawType": "float64",
         "type": "float"
        },
        {
         "name": "dreb_home",
         "rawType": "float64",
         "type": "float"
        },
        {
         "name": "reb_home",
         "rawType": "float64",
         "type": "float"
        },
        {
         "name": "ast_home",
         "rawType": "float64",
         "type": "float"
        },
        {
         "name": "stl_home",
         "rawType": "float64",
         "type": "float"
        },
        {
         "name": "blk_home",
         "rawType": "float64",
         "type": "float"
        },
        {
         "name": "tov_home",
         "rawType": "float64",
         "type": "float"
        },
        {
         "name": "pf_home",
         "rawType": "float64",
         "type": "float"
        },
        {
         "name": "pts_home",
         "rawType": "float64",
         "type": "float"
        },
        {
         "name": "plus_minus_home",
         "rawType": "float64",
         "type": "float"
        },
        {
         "name": "video_available_home",
         "rawType": "float64",
         "type": "float"
        },
        {
         "name": "team_id_away",
         "rawType": "int64",
         "type": "integer"
        },
        {
         "name": "team_abbreviation_away",
         "rawType": "object",
         "type": "string"
        },
        {
         "name": "team_name_away",
         "rawType": "object",
         "type": "string"
        },
        {
         "name": "matchup_away",
         "rawType": "object",
         "type": "string"
        },
        {
         "name": "wl_away",
         "rawType": "object",
         "type": "string"
        },
        {
         "name": "fgm_away",
         "rawType": "float64",
         "type": "float"
        },
        {
         "name": "fga_away",
         "rawType": "float64",
         "type": "float"
        },
        {
         "name": "fg_pct_away",
         "rawType": "float64",
         "type": "float"
        },
        {
         "name": "fg3m_away",
         "rawType": "float64",
         "type": "float"
        },
        {
         "name": "fg3a_away",
         "rawType": "float64",
         "type": "float"
        },
        {
         "name": "fg3_pct_away",
         "rawType": "float64",
         "type": "float"
        },
        {
         "name": "ftm_away",
         "rawType": "float64",
         "type": "float"
        },
        {
         "name": "fta_away",
         "rawType": "float64",
         "type": "float"
        },
        {
         "name": "ft_pct_away",
         "rawType": "float64",
         "type": "float"
        },
        {
         "name": "oreb_away",
         "rawType": "float64",
         "type": "float"
        },
        {
         "name": "dreb_away",
         "rawType": "float64",
         "type": "float"
        },
        {
         "name": "reb_away",
         "rawType": "float64",
         "type": "float"
        },
        {
         "name": "ast_away",
         "rawType": "float64",
         "type": "float"
        },
        {
         "name": "stl_away",
         "rawType": "float64",
         "type": "float"
        },
        {
         "name": "blk_away",
         "rawType": "float64",
         "type": "float"
        },
        {
         "name": "tov_away",
         "rawType": "float64",
         "type": "float"
        },
        {
         "name": "pf_away",
         "rawType": "float64",
         "type": "float"
        },
        {
         "name": "pts_away",
         "rawType": "float64",
         "type": "float"
        },
        {
         "name": "plus_minus_away",
         "rawType": "float64",
         "type": "float"
        },
        {
         "name": "video_available_away",
         "rawType": "float64",
         "type": "float"
        },
        {
         "name": "season_type",
         "rawType": "object",
         "type": "string"
        }
       ],
       "conversionMethod": "pd.DataFrame",
       "ref": "7bc7811c-859f-4218-ba07-2b81bcbe1f99",
       "rows": [
        [
         "0",
         "21946",
         "1610610035",
         "HUS",
         "Toronto Huskies",
         "24600001",
         "1946-11-01 00:00:00",
         "HUS vs. NYK",
         "L",
         "0.0",
         "25.0",
         null,
         null,
         null,
         null,
         null,
         "16.0",
         "29.0",
         "0.552",
         null,
         null,
         null,
         null,
         null,
         null,
         null,
         null,
         "66.0",
         "-2.0",
         "0.0",
         "1610612752",
         "NYK",
         "New York Knicks",
         "NYK @ HUS",
         "W",
         "24.0",
         null,
         null,
         null,
         null,
         null,
         "20.0",
         "26.0",
         "0.769",
         null,
         null,
         null,
         null,
         null,
         null,
         null,
         null,
         "68.0",
         "2.0",
         "0.0",
         "Regular Season"
        ],
        [
         "1",
         "21946",
         "1610610034",
         "BOM",
         "St. Louis Bombers",
         "24600003",
         "1946-11-02 00:00:00",
         "BOM vs. PIT",
         "W",
         "0.0",
         "20.0",
         "59.0",
         "0.339",
         null,
         null,
         null,
         "16.0",
         null,
         null,
         null,
         null,
         null,
         null,
         null,
         null,
         null,
         "21.0",
         "56.0",
         "5.0",
         "0.0",
         "1610610031",
         "PIT",
         "Pittsburgh Ironmen",
         "PIT @ BOM",
         "L",
         "16.0",
         "72.0",
         "0.222",
         null,
         null,
         null,
         "19.0",
         null,
         null,
         null,
         null,
         null,
         null,
         null,
         null,
         null,
         "25.0",
         "51.0",
         "-5.0",
         "0.0",
         "Regular Season"
        ],
        [
         "2",
         "21946",
         "1610610032",
         "PRO",
         "Providence Steamrollers",
         "24600002",
         "1946-11-02 00:00:00",
         "PRO vs. BOS",
         "W",
         "0.0",
         "21.0",
         null,
         null,
         null,
         null,
         null,
         "17.0",
         null,
         null,
         null,
         null,
         null,
         null,
         null,
         null,
         null,
         null,
         "59.0",
         "6.0",
         "0.0",
         "1610612738",
         "BOS",
         "Boston Celtics",
         "BOS @ PRO",
         "L",
         "21.0",
         null,
         null,
         null,
         null,
         null,
         "11.0",
         null,
         null,
         null,
         null,
         null,
         null,
         null,
         null,
         null,
         null,
         "53.0",
         "-6.0",
         "0.0",
         "Regular Season"
        ],
        [
         "3",
         "21946",
         "1610610025",
         "CHS",
         "Chicago Stags",
         "24600004",
         "1946-11-02 00:00:00",
         "CHS vs. NYK",
         "W",
         "0.0",
         "21.0",
         null,
         null,
         null,
         null,
         null,
         "21.0",
         null,
         null,
         null,
         null,
         null,
         null,
         null,
         null,
         null,
         "20.0",
         "63.0",
         "16.0",
         "0.0",
         "1610612752",
         "NYK",
         "New York Knicks",
         "NYK @ CHS",
         "L",
         "16.0",
         null,
         null,
         null,
         null,
         null,
         "15.0",
         null,
         null,
         null,
         null,
         null,
         null,
         null,
         null,
         null,
         "22.0",
         "47.0",
         "-16.0",
         "0.0",
         "Regular Season"
        ],
        [
         "4",
         "21946",
         "1610610028",
         "DEF",
         "Detroit Falcons",
         "24600005",
         "1946-11-02 00:00:00",
         "DEF vs. WAS",
         "L",
         "0.0",
         "10.0",
         null,
         null,
         null,
         null,
         null,
         "13.0",
         null,
         null,
         null,
         null,
         null,
         null,
         null,
         null,
         null,
         null,
         "33.0",
         "-17.0",
         "0.0",
         "1610610036",
         "WAS",
         "Washington Capitols",
         "WAS @ DEF",
         "W",
         "18.0",
         null,
         null,
         null,
         null,
         null,
         "14.0",
         null,
         null,
         null,
         null,
         null,
         null,
         null,
         null,
         null,
         null,
         "50.0",
         "17.0",
         "0.0",
         "Regular Season"
        ]
       ],
       "shape": {
        "columns": 55,
        "rows": 5
       }
      },
      "text/html": [
       "<div>\n",
       "<style scoped>\n",
       "    .dataframe tbody tr th:only-of-type {\n",
       "        vertical-align: middle;\n",
       "    }\n",
       "\n",
       "    .dataframe tbody tr th {\n",
       "        vertical-align: top;\n",
       "    }\n",
       "\n",
       "    .dataframe thead th {\n",
       "        text-align: right;\n",
       "    }\n",
       "</style>\n",
       "<table border=\"1\" class=\"dataframe\">\n",
       "  <thead>\n",
       "    <tr style=\"text-align: right;\">\n",
       "      <th></th>\n",
       "      <th>season_id</th>\n",
       "      <th>team_id_home</th>\n",
       "      <th>team_abbreviation_home</th>\n",
       "      <th>team_name_home</th>\n",
       "      <th>game_id</th>\n",
       "      <th>game_date</th>\n",
       "      <th>matchup_home</th>\n",
       "      <th>wl_home</th>\n",
       "      <th>min</th>\n",
       "      <th>fgm_home</th>\n",
       "      <th>...</th>\n",
       "      <th>reb_away</th>\n",
       "      <th>ast_away</th>\n",
       "      <th>stl_away</th>\n",
       "      <th>blk_away</th>\n",
       "      <th>tov_away</th>\n",
       "      <th>pf_away</th>\n",
       "      <th>pts_away</th>\n",
       "      <th>plus_minus_away</th>\n",
       "      <th>video_available_away</th>\n",
       "      <th>season_type</th>\n",
       "    </tr>\n",
       "  </thead>\n",
       "  <tbody>\n",
       "    <tr>\n",
       "      <th>0</th>\n",
       "      <td>21946</td>\n",
       "      <td>1610610035</td>\n",
       "      <td>HUS</td>\n",
       "      <td>Toronto Huskies</td>\n",
       "      <td>24600001</td>\n",
       "      <td>1946-11-01 00:00:00</td>\n",
       "      <td>HUS vs. NYK</td>\n",
       "      <td>L</td>\n",
       "      <td>0.0</td>\n",
       "      <td>25.0</td>\n",
       "      <td>...</td>\n",
       "      <td>NaN</td>\n",
       "      <td>NaN</td>\n",
       "      <td>NaN</td>\n",
       "      <td>NaN</td>\n",
       "      <td>NaN</td>\n",
       "      <td>NaN</td>\n",
       "      <td>68.0</td>\n",
       "      <td>2.0</td>\n",
       "      <td>0.0</td>\n",
       "      <td>Regular Season</td>\n",
       "    </tr>\n",
       "    <tr>\n",
       "      <th>1</th>\n",
       "      <td>21946</td>\n",
       "      <td>1610610034</td>\n",
       "      <td>BOM</td>\n",
       "      <td>St. Louis Bombers</td>\n",
       "      <td>24600003</td>\n",
       "      <td>1946-11-02 00:00:00</td>\n",
       "      <td>BOM vs. PIT</td>\n",
       "      <td>W</td>\n",
       "      <td>0.0</td>\n",
       "      <td>20.0</td>\n",
       "      <td>...</td>\n",
       "      <td>NaN</td>\n",
       "      <td>NaN</td>\n",
       "      <td>NaN</td>\n",
       "      <td>NaN</td>\n",
       "      <td>NaN</td>\n",
       "      <td>25.0</td>\n",
       "      <td>51.0</td>\n",
       "      <td>-5.0</td>\n",
       "      <td>0.0</td>\n",
       "      <td>Regular Season</td>\n",
       "    </tr>\n",
       "    <tr>\n",
       "      <th>2</th>\n",
       "      <td>21946</td>\n",
       "      <td>1610610032</td>\n",
       "      <td>PRO</td>\n",
       "      <td>Providence Steamrollers</td>\n",
       "      <td>24600002</td>\n",
       "      <td>1946-11-02 00:00:00</td>\n",
       "      <td>PRO vs. BOS</td>\n",
       "      <td>W</td>\n",
       "      <td>0.0</td>\n",
       "      <td>21.0</td>\n",
       "      <td>...</td>\n",
       "      <td>NaN</td>\n",
       "      <td>NaN</td>\n",
       "      <td>NaN</td>\n",
       "      <td>NaN</td>\n",
       "      <td>NaN</td>\n",
       "      <td>NaN</td>\n",
       "      <td>53.0</td>\n",
       "      <td>-6.0</td>\n",
       "      <td>0.0</td>\n",
       "      <td>Regular Season</td>\n",
       "    </tr>\n",
       "    <tr>\n",
       "      <th>3</th>\n",
       "      <td>21946</td>\n",
       "      <td>1610610025</td>\n",
       "      <td>CHS</td>\n",
       "      <td>Chicago Stags</td>\n",
       "      <td>24600004</td>\n",
       "      <td>1946-11-02 00:00:00</td>\n",
       "      <td>CHS vs. NYK</td>\n",
       "      <td>W</td>\n",
       "      <td>0.0</td>\n",
       "      <td>21.0</td>\n",
       "      <td>...</td>\n",
       "      <td>NaN</td>\n",
       "      <td>NaN</td>\n",
       "      <td>NaN</td>\n",
       "      <td>NaN</td>\n",
       "      <td>NaN</td>\n",
       "      <td>22.0</td>\n",
       "      <td>47.0</td>\n",
       "      <td>-16.0</td>\n",
       "      <td>0.0</td>\n",
       "      <td>Regular Season</td>\n",
       "    </tr>\n",
       "    <tr>\n",
       "      <th>4</th>\n",
       "      <td>21946</td>\n",
       "      <td>1610610028</td>\n",
       "      <td>DEF</td>\n",
       "      <td>Detroit Falcons</td>\n",
       "      <td>24600005</td>\n",
       "      <td>1946-11-02 00:00:00</td>\n",
       "      <td>DEF vs. WAS</td>\n",
       "      <td>L</td>\n",
       "      <td>0.0</td>\n",
       "      <td>10.0</td>\n",
       "      <td>...</td>\n",
       "      <td>NaN</td>\n",
       "      <td>NaN</td>\n",
       "      <td>NaN</td>\n",
       "      <td>NaN</td>\n",
       "      <td>NaN</td>\n",
       "      <td>NaN</td>\n",
       "      <td>50.0</td>\n",
       "      <td>17.0</td>\n",
       "      <td>0.0</td>\n",
       "      <td>Regular Season</td>\n",
       "    </tr>\n",
       "  </tbody>\n",
       "</table>\n",
       "<p>5 rows × 55 columns</p>\n",
       "</div>"
      ],
      "text/plain": [
       "  season_id  team_id_home team_abbreviation_home           team_name_home  \\\n",
       "0     21946    1610610035                    HUS          Toronto Huskies   \n",
       "1     21946    1610610034                    BOM        St. Louis Bombers   \n",
       "2     21946    1610610032                    PRO  Providence Steamrollers   \n",
       "3     21946    1610610025                    CHS            Chicago Stags   \n",
       "4     21946    1610610028                    DEF          Detroit Falcons   \n",
       "\n",
       "    game_id            game_date matchup_home wl_home  min  fgm_home  ...  \\\n",
       "0  24600001  1946-11-01 00:00:00  HUS vs. NYK       L  0.0      25.0  ...   \n",
       "1  24600003  1946-11-02 00:00:00  BOM vs. PIT       W  0.0      20.0  ...   \n",
       "2  24600002  1946-11-02 00:00:00  PRO vs. BOS       W  0.0      21.0  ...   \n",
       "3  24600004  1946-11-02 00:00:00  CHS vs. NYK       W  0.0      21.0  ...   \n",
       "4  24600005  1946-11-02 00:00:00  DEF vs. WAS       L  0.0      10.0  ...   \n",
       "\n",
       "   reb_away  ast_away  stl_away  blk_away  tov_away  pf_away  pts_away  \\\n",
       "0       NaN       NaN       NaN       NaN       NaN      NaN      68.0   \n",
       "1       NaN       NaN       NaN       NaN       NaN     25.0      51.0   \n",
       "2       NaN       NaN       NaN       NaN       NaN      NaN      53.0   \n",
       "3       NaN       NaN       NaN       NaN       NaN     22.0      47.0   \n",
       "4       NaN       NaN       NaN       NaN       NaN      NaN      50.0   \n",
       "\n",
       "   plus_minus_away  video_available_away     season_type  \n",
       "0              2.0                   0.0  Regular Season  \n",
       "1             -5.0                   0.0  Regular Season  \n",
       "2             -6.0                   0.0  Regular Season  \n",
       "3            -16.0                   0.0  Regular Season  \n",
       "4             17.0                   0.0  Regular Season  \n",
       "\n",
       "[5 rows x 55 columns]"
      ]
     },
     "execution_count": 4,
     "metadata": {},
     "output_type": "execute_result"
    }
   ],
   "source": [
    "df.head()"
   ]
  },
  {
   "cell_type": "code",
   "execution_count": 5,
   "metadata": {},
   "outputs": [
    {
     "data": {
      "application/vnd.microsoft.datawrangler.viewer.v0+json": {
       "columns": [
        {
         "name": "index",
         "rawType": "int64",
         "type": "integer"
        },
        {
         "name": "season_id",
         "rawType": "object",
         "type": "string"
        },
        {
         "name": "team_id_home",
         "rawType": "int64",
         "type": "integer"
        },
        {
         "name": "team_abbreviation_home",
         "rawType": "object",
         "type": "string"
        },
        {
         "name": "team_name_home",
         "rawType": "object",
         "type": "string"
        },
        {
         "name": "game_id",
         "rawType": "int64",
         "type": "integer"
        },
        {
         "name": "game_date",
         "rawType": "object",
         "type": "string"
        },
        {
         "name": "matchup_home",
         "rawType": "object",
         "type": "string"
        },
        {
         "name": "wl_home",
         "rawType": "object",
         "type": "string"
        },
        {
         "name": "min",
         "rawType": "float64",
         "type": "float"
        },
        {
         "name": "fgm_home",
         "rawType": "float64",
         "type": "float"
        },
        {
         "name": "fga_home",
         "rawType": "float64",
         "type": "float"
        },
        {
         "name": "fg_pct_home",
         "rawType": "float64",
         "type": "float"
        },
        {
         "name": "fg3m_home",
         "rawType": "float64",
         "type": "float"
        },
        {
         "name": "fg3a_home",
         "rawType": "float64",
         "type": "float"
        },
        {
         "name": "fg3_pct_home",
         "rawType": "float64",
         "type": "float"
        },
        {
         "name": "ftm_home",
         "rawType": "float64",
         "type": "float"
        },
        {
         "name": "fta_home",
         "rawType": "float64",
         "type": "float"
        },
        {
         "name": "ft_pct_home",
         "rawType": "float64",
         "type": "float"
        },
        {
         "name": "oreb_home",
         "rawType": "float64",
         "type": "float"
        },
        {
         "name": "dreb_home",
         "rawType": "float64",
         "type": "float"
        },
        {
         "name": "reb_home",
         "rawType": "float64",
         "type": "float"
        },
        {
         "name": "ast_home",
         "rawType": "float64",
         "type": "float"
        },
        {
         "name": "stl_home",
         "rawType": "float64",
         "type": "float"
        },
        {
         "name": "blk_home",
         "rawType": "float64",
         "type": "float"
        },
        {
         "name": "tov_home",
         "rawType": "float64",
         "type": "float"
        },
        {
         "name": "pf_home",
         "rawType": "float64",
         "type": "float"
        },
        {
         "name": "pts_home",
         "rawType": "float64",
         "type": "float"
        },
        {
         "name": "plus_minus_home",
         "rawType": "float64",
         "type": "float"
        },
        {
         "name": "video_available_home",
         "rawType": "float64",
         "type": "float"
        },
        {
         "name": "team_id_away",
         "rawType": "int64",
         "type": "integer"
        },
        {
         "name": "team_abbreviation_away",
         "rawType": "object",
         "type": "string"
        },
        {
         "name": "team_name_away",
         "rawType": "object",
         "type": "string"
        },
        {
         "name": "matchup_away",
         "rawType": "object",
         "type": "string"
        },
        {
         "name": "wl_away",
         "rawType": "object",
         "type": "string"
        },
        {
         "name": "fgm_away",
         "rawType": "float64",
         "type": "float"
        },
        {
         "name": "fga_away",
         "rawType": "float64",
         "type": "float"
        },
        {
         "name": "fg_pct_away",
         "rawType": "float64",
         "type": "float"
        },
        {
         "name": "fg3m_away",
         "rawType": "float64",
         "type": "float"
        },
        {
         "name": "fg3a_away",
         "rawType": "float64",
         "type": "float"
        },
        {
         "name": "fg3_pct_away",
         "rawType": "float64",
         "type": "float"
        },
        {
         "name": "ftm_away",
         "rawType": "float64",
         "type": "float"
        },
        {
         "name": "fta_away",
         "rawType": "float64",
         "type": "float"
        },
        {
         "name": "ft_pct_away",
         "rawType": "float64",
         "type": "float"
        },
        {
         "name": "oreb_away",
         "rawType": "float64",
         "type": "float"
        },
        {
         "name": "dreb_away",
         "rawType": "float64",
         "type": "float"
        },
        {
         "name": "reb_away",
         "rawType": "float64",
         "type": "float"
        },
        {
         "name": "ast_away",
         "rawType": "float64",
         "type": "float"
        },
        {
         "name": "stl_away",
         "rawType": "float64",
         "type": "float"
        },
        {
         "name": "blk_away",
         "rawType": "float64",
         "type": "float"
        },
        {
         "name": "tov_away",
         "rawType": "float64",
         "type": "float"
        },
        {
         "name": "pf_away",
         "rawType": "float64",
         "type": "float"
        },
        {
         "name": "pts_away",
         "rawType": "float64",
         "type": "float"
        },
        {
         "name": "plus_minus_away",
         "rawType": "float64",
         "type": "float"
        },
        {
         "name": "video_available_away",
         "rawType": "float64",
         "type": "float"
        },
        {
         "name": "season_type",
         "rawType": "object",
         "type": "unknown"
        }
       ],
       "conversionMethod": "pd.DataFrame",
       "ref": "413222a4-c878-44db-af2d-fc23cdb3ce7d",
       "rows": [
        [
         "66867",
         "22024",
         "1610612761",
         "TOR",
         "Toronto Raptors",
         "22400067",
         "2024-10-23 00:00:00",
         "TOR vs. CLE",
         "L",
         null,
         "36.0",
         "86.0",
         "0.419",
         "12.0",
         "31.0",
         "0.387",
         "22.0",
         "29.0",
         "0.759",
         "14.0",
         "24.0",
         "38.0",
         "25.0",
         "8.0",
         "6.0",
         "18.0",
         "24.0",
         "106.0",
         "-30.0",
         null,
         "1610612739",
         "CLE",
         "Cleveland Cavaliers",
         "CLE @ TOR",
         "W",
         "51.0",
         "87.0",
         "0.586",
         "14.0",
         "30.0",
         "0.467",
         "20.0",
         "26.0",
         "0.769",
         "8.0",
         "28.0",
         "36.0",
         "29.0",
         "10.0",
         "9.0",
         "12.0",
         "22.0",
         "136.0",
         "30.0",
         null,
         null
        ],
        [
         "66868",
         "22024",
         "1610612765",
         "DET",
         "Detroit Pistons",
         "22400063",
         "2024-10-23 00:00:00",
         "DET vs. IND",
         "L",
         null,
         "38.0",
         "88.0",
         "0.432",
         "9.0",
         "33.0",
         "0.273",
         "24.0",
         "28.0",
         "0.857",
         "12.0",
         "26.0",
         "38.0",
         "22.0",
         "6.0",
         "2.0",
         "12.0",
         "21.0",
         "109.0",
         "-6.0",
         null,
         "1610612754",
         "IND",
         "Indiana Pacers",
         "IND @ DET",
         "W",
         "42.0",
         "83.0",
         "0.506",
         "9.0",
         "31.0",
         "0.29",
         "22.0",
         "25.0",
         "0.88",
         "7.0",
         "32.0",
         "39.0",
         "32.0",
         "10.0",
         "8.0",
         "15.0",
         "23.0",
         "115.0",
         "6.0",
         null,
         null
        ],
        [
         "66869",
         "22024",
         "1610612757",
         "POR",
         "Portland Trail Blazers",
         "22400072",
         "2024-10-23 00:00:00",
         "POR vs. GSW",
         "L",
         null,
         "36.0",
         "92.0",
         "0.391",
         "8.0",
         "34.0",
         "0.235",
         "24.0",
         "30.0",
         "0.8",
         "13.0",
         "29.0",
         "42.0",
         "21.0",
         "10.0",
         "4.0",
         "17.0",
         "22.0",
         "104.0",
         "-36.0",
         null,
         "1610612744",
         "GSW",
         "Golden State Warriors",
         "GSW @ POR",
         "W",
         "48.0",
         "93.0",
         "0.516",
         "20.0",
         "48.0",
         "0.417",
         "24.0",
         "30.0",
         "0.8",
         "15.0",
         "42.0",
         "57.0",
         "38.0",
         "13.0",
         "5.0",
         "17.0",
         "27.0",
         "140.0",
         "36.0",
         null,
         null
        ],
        [
         "66870",
         "22024",
         "1610612747",
         "LAL",
         "Los Angeles Lakers",
         "22400062",
         "2024-10-22 00:00:00",
         "LAL vs. MIN",
         "W",
         null,
         "42.0",
         "95.0",
         "0.442",
         "5.0",
         "30.0",
         "0.167",
         "21.0",
         "25.0",
         "0.84",
         "15.0",
         "31.0",
         "46.0",
         "22.0",
         "7.0",
         "8.0",
         "7.0",
         "22.0",
         "110.0",
         "7.0",
         null,
         "1610612750",
         "MIN",
         "Minnesota Timberwolves",
         "MIN @ LAL",
         "L",
         "35.0",
         "85.0",
         "0.412",
         "13.0",
         "41.0",
         "0.317",
         "20.0",
         "27.0",
         "0.741",
         "12.0",
         "35.0",
         "47.0",
         "17.0",
         "4.0",
         "1.0",
         "15.0",
         "22.0",
         "103.0",
         "-7.0",
         null,
         null
        ],
        [
         "66871",
         "22024",
         "1610612738",
         "BOS",
         "Boston Celtics",
         "22400061",
         "2024-10-22 00:00:00",
         "BOS vs. NYK",
         "W",
         null,
         "48.0",
         "95.0",
         "0.505",
         "29.0",
         "61.0",
         "0.475",
         "7.0",
         "8.0",
         "0.875",
         "11.0",
         "29.0",
         "40.0",
         "33.0",
         "6.0",
         "3.0",
         "3.0",
         "15.0",
         "132.0",
         "23.0",
         null,
         "1610612752",
         "NYK",
         "New York Knicks",
         "NYK @ BOS",
         "L",
         "43.0",
         "78.0",
         "0.551",
         "11.0",
         "30.0",
         "0.367",
         "12.0",
         "16.0",
         "0.75",
         "5.0",
         "29.0",
         "34.0",
         "20.0",
         "2.0",
         "3.0",
         "11.0",
         "12.0",
         "109.0",
         "-23.0",
         null,
         null
        ]
       ],
       "shape": {
        "columns": 55,
        "rows": 5
       }
      },
      "text/html": [
       "<div>\n",
       "<style scoped>\n",
       "    .dataframe tbody tr th:only-of-type {\n",
       "        vertical-align: middle;\n",
       "    }\n",
       "\n",
       "    .dataframe tbody tr th {\n",
       "        vertical-align: top;\n",
       "    }\n",
       "\n",
       "    .dataframe thead th {\n",
       "        text-align: right;\n",
       "    }\n",
       "</style>\n",
       "<table border=\"1\" class=\"dataframe\">\n",
       "  <thead>\n",
       "    <tr style=\"text-align: right;\">\n",
       "      <th></th>\n",
       "      <th>season_id</th>\n",
       "      <th>team_id_home</th>\n",
       "      <th>team_abbreviation_home</th>\n",
       "      <th>team_name_home</th>\n",
       "      <th>game_id</th>\n",
       "      <th>game_date</th>\n",
       "      <th>matchup_home</th>\n",
       "      <th>wl_home</th>\n",
       "      <th>min</th>\n",
       "      <th>fgm_home</th>\n",
       "      <th>...</th>\n",
       "      <th>reb_away</th>\n",
       "      <th>ast_away</th>\n",
       "      <th>stl_away</th>\n",
       "      <th>blk_away</th>\n",
       "      <th>tov_away</th>\n",
       "      <th>pf_away</th>\n",
       "      <th>pts_away</th>\n",
       "      <th>plus_minus_away</th>\n",
       "      <th>video_available_away</th>\n",
       "      <th>season_type</th>\n",
       "    </tr>\n",
       "  </thead>\n",
       "  <tbody>\n",
       "    <tr>\n",
       "      <th>66867</th>\n",
       "      <td>22024</td>\n",
       "      <td>1610612761</td>\n",
       "      <td>TOR</td>\n",
       "      <td>Toronto Raptors</td>\n",
       "      <td>22400067</td>\n",
       "      <td>2024-10-23 00:00:00</td>\n",
       "      <td>TOR vs. CLE</td>\n",
       "      <td>L</td>\n",
       "      <td>NaN</td>\n",
       "      <td>36.0</td>\n",
       "      <td>...</td>\n",
       "      <td>36.0</td>\n",
       "      <td>29.0</td>\n",
       "      <td>10.0</td>\n",
       "      <td>9.0</td>\n",
       "      <td>12.0</td>\n",
       "      <td>22.0</td>\n",
       "      <td>136.0</td>\n",
       "      <td>30.0</td>\n",
       "      <td>NaN</td>\n",
       "      <td>NaN</td>\n",
       "    </tr>\n",
       "    <tr>\n",
       "      <th>66868</th>\n",
       "      <td>22024</td>\n",
       "      <td>1610612765</td>\n",
       "      <td>DET</td>\n",
       "      <td>Detroit Pistons</td>\n",
       "      <td>22400063</td>\n",
       "      <td>2024-10-23 00:00:00</td>\n",
       "      <td>DET vs. IND</td>\n",
       "      <td>L</td>\n",
       "      <td>NaN</td>\n",
       "      <td>38.0</td>\n",
       "      <td>...</td>\n",
       "      <td>39.0</td>\n",
       "      <td>32.0</td>\n",
       "      <td>10.0</td>\n",
       "      <td>8.0</td>\n",
       "      <td>15.0</td>\n",
       "      <td>23.0</td>\n",
       "      <td>115.0</td>\n",
       "      <td>6.0</td>\n",
       "      <td>NaN</td>\n",
       "      <td>NaN</td>\n",
       "    </tr>\n",
       "    <tr>\n",
       "      <th>66869</th>\n",
       "      <td>22024</td>\n",
       "      <td>1610612757</td>\n",
       "      <td>POR</td>\n",
       "      <td>Portland Trail Blazers</td>\n",
       "      <td>22400072</td>\n",
       "      <td>2024-10-23 00:00:00</td>\n",
       "      <td>POR vs. GSW</td>\n",
       "      <td>L</td>\n",
       "      <td>NaN</td>\n",
       "      <td>36.0</td>\n",
       "      <td>...</td>\n",
       "      <td>57.0</td>\n",
       "      <td>38.0</td>\n",
       "      <td>13.0</td>\n",
       "      <td>5.0</td>\n",
       "      <td>17.0</td>\n",
       "      <td>27.0</td>\n",
       "      <td>140.0</td>\n",
       "      <td>36.0</td>\n",
       "      <td>NaN</td>\n",
       "      <td>NaN</td>\n",
       "    </tr>\n",
       "    <tr>\n",
       "      <th>66870</th>\n",
       "      <td>22024</td>\n",
       "      <td>1610612747</td>\n",
       "      <td>LAL</td>\n",
       "      <td>Los Angeles Lakers</td>\n",
       "      <td>22400062</td>\n",
       "      <td>2024-10-22 00:00:00</td>\n",
       "      <td>LAL vs. MIN</td>\n",
       "      <td>W</td>\n",
       "      <td>NaN</td>\n",
       "      <td>42.0</td>\n",
       "      <td>...</td>\n",
       "      <td>47.0</td>\n",
       "      <td>17.0</td>\n",
       "      <td>4.0</td>\n",
       "      <td>1.0</td>\n",
       "      <td>15.0</td>\n",
       "      <td>22.0</td>\n",
       "      <td>103.0</td>\n",
       "      <td>-7.0</td>\n",
       "      <td>NaN</td>\n",
       "      <td>NaN</td>\n",
       "    </tr>\n",
       "    <tr>\n",
       "      <th>66871</th>\n",
       "      <td>22024</td>\n",
       "      <td>1610612738</td>\n",
       "      <td>BOS</td>\n",
       "      <td>Boston Celtics</td>\n",
       "      <td>22400061</td>\n",
       "      <td>2024-10-22 00:00:00</td>\n",
       "      <td>BOS vs. NYK</td>\n",
       "      <td>W</td>\n",
       "      <td>NaN</td>\n",
       "      <td>48.0</td>\n",
       "      <td>...</td>\n",
       "      <td>34.0</td>\n",
       "      <td>20.0</td>\n",
       "      <td>2.0</td>\n",
       "      <td>3.0</td>\n",
       "      <td>11.0</td>\n",
       "      <td>12.0</td>\n",
       "      <td>109.0</td>\n",
       "      <td>-23.0</td>\n",
       "      <td>NaN</td>\n",
       "      <td>NaN</td>\n",
       "    </tr>\n",
       "  </tbody>\n",
       "</table>\n",
       "<p>5 rows × 55 columns</p>\n",
       "</div>"
      ],
      "text/plain": [
       "      season_id  team_id_home team_abbreviation_home          team_name_home  \\\n",
       "66867     22024    1610612761                    TOR         Toronto Raptors   \n",
       "66868     22024    1610612765                    DET         Detroit Pistons   \n",
       "66869     22024    1610612757                    POR  Portland Trail Blazers   \n",
       "66870     22024    1610612747                    LAL      Los Angeles Lakers   \n",
       "66871     22024    1610612738                    BOS          Boston Celtics   \n",
       "\n",
       "        game_id            game_date matchup_home wl_home  min  fgm_home  ...  \\\n",
       "66867  22400067  2024-10-23 00:00:00  TOR vs. CLE       L  NaN      36.0  ...   \n",
       "66868  22400063  2024-10-23 00:00:00  DET vs. IND       L  NaN      38.0  ...   \n",
       "66869  22400072  2024-10-23 00:00:00  POR vs. GSW       L  NaN      36.0  ...   \n",
       "66870  22400062  2024-10-22 00:00:00  LAL vs. MIN       W  NaN      42.0  ...   \n",
       "66871  22400061  2024-10-22 00:00:00  BOS vs. NYK       W  NaN      48.0  ...   \n",
       "\n",
       "       reb_away  ast_away  stl_away  blk_away  tov_away  pf_away  pts_away  \\\n",
       "66867      36.0      29.0      10.0       9.0      12.0     22.0     136.0   \n",
       "66868      39.0      32.0      10.0       8.0      15.0     23.0     115.0   \n",
       "66869      57.0      38.0      13.0       5.0      17.0     27.0     140.0   \n",
       "66870      47.0      17.0       4.0       1.0      15.0     22.0     103.0   \n",
       "66871      34.0      20.0       2.0       3.0      11.0     12.0     109.0   \n",
       "\n",
       "       plus_minus_away  video_available_away  season_type  \n",
       "66867             30.0                   NaN          NaN  \n",
       "66868              6.0                   NaN          NaN  \n",
       "66869             36.0                   NaN          NaN  \n",
       "66870             -7.0                   NaN          NaN  \n",
       "66871            -23.0                   NaN          NaN  \n",
       "\n",
       "[5 rows x 55 columns]"
      ]
     },
     "execution_count": 5,
     "metadata": {},
     "output_type": "execute_result"
    }
   ],
   "source": [
    "df.tail()"
   ]
  },
  {
   "cell_type": "markdown",
   "metadata": {},
   "source": [
    "Removing unnecessary columns"
   ]
  },
  {
   "cell_type": "code",
   "execution_count": 6,
   "metadata": {},
   "outputs": [],
   "source": [
    "df = df.drop(columns=['video_available_home', 'video_available_away', 'min','season_type'])"
   ]
  },
  {
   "cell_type": "markdown",
   "metadata": {},
   "source": [
    "Handling missing values"
   ]
  },
  {
   "cell_type": "code",
   "execution_count": 7,
   "metadata": {},
   "outputs": [],
   "source": [
    "df.isna().sum()\n",
    "df.dropna(inplace=True)"
   ]
  },
  {
   "cell_type": "markdown",
   "metadata": {},
   "source": [
    "### Feature Engineering"
   ]
  },
  {
   "cell_type": "markdown",
   "metadata": {},
   "source": [
    "Transforming the game data into separate home and away perspectives, renaming columns for consistency and adding an is_home indicator. Mapping win/loss outcomes to binary values and prepares the data for further analysis."
   ]
  },
  {
   "cell_type": "code",
   "execution_count": 8,
   "metadata": {},
   "outputs": [
    {
     "data": {
      "application/vnd.microsoft.datawrangler.viewer.v0+json": {
       "columns": [
        {
         "name": "index",
         "rawType": "int64",
         "type": "integer"
        },
        {
         "name": "season_id",
         "rawType": "object",
         "type": "unknown"
        },
        {
         "name": "team_id",
         "rawType": "int64",
         "type": "integer"
        },
        {
         "name": "team_abbreviation",
         "rawType": "object",
         "type": "string"
        },
        {
         "name": "team_name",
         "rawType": "object",
         "type": "string"
        },
        {
         "name": "game_id",
         "rawType": "int64",
         "type": "integer"
        },
        {
         "name": "game_date",
         "rawType": "datetime64[ns]",
         "type": "datetime"
        },
        {
         "name": "matchup",
         "rawType": "object",
         "type": "string"
        },
        {
         "name": "wl",
         "rawType": "int64",
         "type": "integer"
        },
        {
         "name": "fgm",
         "rawType": "float64",
         "type": "float"
        },
        {
         "name": "fga",
         "rawType": "float64",
         "type": "float"
        },
        {
         "name": "fg_pct",
         "rawType": "float64",
         "type": "float"
        },
        {
         "name": "fg3m",
         "rawType": "float64",
         "type": "float"
        },
        {
         "name": "fg3a",
         "rawType": "float64",
         "type": "float"
        },
        {
         "name": "fg3_pct",
         "rawType": "float64",
         "type": "float"
        },
        {
         "name": "ftm",
         "rawType": "float64",
         "type": "float"
        },
        {
         "name": "fta",
         "rawType": "float64",
         "type": "float"
        },
        {
         "name": "ft_pct",
         "rawType": "float64",
         "type": "float"
        },
        {
         "name": "oreb",
         "rawType": "float64",
         "type": "float"
        },
        {
         "name": "dreb",
         "rawType": "float64",
         "type": "float"
        },
        {
         "name": "reb",
         "rawType": "float64",
         "type": "float"
        },
        {
         "name": "ast",
         "rawType": "float64",
         "type": "float"
        },
        {
         "name": "stl",
         "rawType": "float64",
         "type": "float"
        },
        {
         "name": "blk",
         "rawType": "float64",
         "type": "float"
        },
        {
         "name": "tov",
         "rawType": "float64",
         "type": "float"
        },
        {
         "name": "pf",
         "rawType": "float64",
         "type": "float"
        },
        {
         "name": "pts",
         "rawType": "float64",
         "type": "float"
        },
        {
         "name": "plus_minus",
         "rawType": "float64",
         "type": "float"
        },
        {
         "name": "pts_lost",
         "rawType": "float64",
         "type": "float"
        },
        {
         "name": "is_home",
         "rawType": "int64",
         "type": "integer"
        }
       ],
       "conversionMethod": "pd.DataFrame",
       "ref": "06d9f5d8-79ed-458f-b646-0d66c65708fd",
       "rows": [
        [
         "0",
         "41979",
         "1610612747",
         "LAL",
         "Los Angeles Lakers",
         "47900044",
         "1980-05-07 00:00:00",
         "LAL vs. PHL",
         "0",
         "48.0",
         "95.0",
         "0.505",
         "0.0",
         "1.0",
         "0.0",
         "8.0",
         "12.0",
         "0.667",
         "15.0",
         "37.0",
         "52.0",
         "32.0",
         "12.0",
         "7.0",
         "26.0",
         "27.0",
         "104.0",
         "-3.0",
         "107.0",
         "1"
        ],
        [
         "1",
         "41979",
         "1610612755",
         "PHL",
         "Philadelphia 76ers",
         "47900045",
         "1980-05-10 00:00:00",
         "PHL vs. LAL",
         "0",
         "45.0",
         "93.0",
         "0.484",
         "1.0",
         "4.0",
         "0.25",
         "10.0",
         "17.0",
         "0.588",
         "13.0",
         "24.0",
         "37.0",
         "34.0",
         "12.0",
         "8.0",
         "13.0",
         "25.0",
         "101.0",
         "-10.0",
         "111.0",
         "1"
        ],
        [
         "2",
         "41979",
         "1610612755",
         "PHL",
         "Philadelphia 76ers",
         "47900048",
         "1980-05-16 00:00:00",
         "PHL vs. LAL",
         "0",
         "47.0",
         "89.0",
         "0.528",
         "0.0",
         "6.0",
         "0.0",
         "13.0",
         "22.0",
         "0.591",
         "7.0",
         "29.0",
         "36.0",
         "27.0",
         "4.0",
         "11.0",
         "18.0",
         "27.0",
         "107.0",
         "-16.0",
         "123.0",
         "1"
        ],
        [
         "3",
         "31979",
         "1610616833",
         "EST",
         "East NBA All Stars East",
         "37900001",
         "1980-02-03 00:00:00",
         "EST vs. WST",
         "1",
         "58.0",
         "124.0",
         "0.468",
         "1.0",
         "2.0",
         "0.5",
         "27.0",
         "44.0",
         "0.614",
         "31.0",
         "31.0",
         "62.0",
         "34.0",
         "20.0",
         "9.0",
         "30.0",
         "30.0",
         "144.0",
         "8.0",
         "136.0",
         "1"
        ],
        [
         "4",
         "41980",
         "1610612738",
         "BOS",
         "Boston Celtics",
         "48000048",
         "1981-05-05 00:00:00",
         "BOS vs. HOU",
         "1",
         "41.0",
         "95.0",
         "0.432",
         "0.0",
         "1.0",
         "0.0",
         "16.0",
         "20.0",
         "0.8",
         "25.0",
         "29.0",
         "54.0",
         "23.0",
         "6.0",
         "5.0",
         "19.0",
         "21.0",
         "98.0",
         "3.0",
         "95.0",
         "1"
        ]
       ],
       "shape": {
        "columns": 29,
        "rows": 5
       }
      },
      "text/html": [
       "<div>\n",
       "<style scoped>\n",
       "    .dataframe tbody tr th:only-of-type {\n",
       "        vertical-align: middle;\n",
       "    }\n",
       "\n",
       "    .dataframe tbody tr th {\n",
       "        vertical-align: top;\n",
       "    }\n",
       "\n",
       "    .dataframe thead th {\n",
       "        text-align: right;\n",
       "    }\n",
       "</style>\n",
       "<table border=\"1\" class=\"dataframe\">\n",
       "  <thead>\n",
       "    <tr style=\"text-align: right;\">\n",
       "      <th></th>\n",
       "      <th>season_id</th>\n",
       "      <th>team_id</th>\n",
       "      <th>team_abbreviation</th>\n",
       "      <th>team_name</th>\n",
       "      <th>game_id</th>\n",
       "      <th>game_date</th>\n",
       "      <th>matchup</th>\n",
       "      <th>wl</th>\n",
       "      <th>fgm</th>\n",
       "      <th>fga</th>\n",
       "      <th>...</th>\n",
       "      <th>reb</th>\n",
       "      <th>ast</th>\n",
       "      <th>stl</th>\n",
       "      <th>blk</th>\n",
       "      <th>tov</th>\n",
       "      <th>pf</th>\n",
       "      <th>pts</th>\n",
       "      <th>plus_minus</th>\n",
       "      <th>pts_lost</th>\n",
       "      <th>is_home</th>\n",
       "    </tr>\n",
       "  </thead>\n",
       "  <tbody>\n",
       "    <tr>\n",
       "      <th>0</th>\n",
       "      <td>41979</td>\n",
       "      <td>1610612747</td>\n",
       "      <td>LAL</td>\n",
       "      <td>Los Angeles Lakers</td>\n",
       "      <td>47900044</td>\n",
       "      <td>1980-05-07</td>\n",
       "      <td>LAL vs. PHL</td>\n",
       "      <td>0</td>\n",
       "      <td>48.0</td>\n",
       "      <td>95.0</td>\n",
       "      <td>...</td>\n",
       "      <td>52.0</td>\n",
       "      <td>32.0</td>\n",
       "      <td>12.0</td>\n",
       "      <td>7.0</td>\n",
       "      <td>26.0</td>\n",
       "      <td>27.0</td>\n",
       "      <td>104.0</td>\n",
       "      <td>-3.0</td>\n",
       "      <td>107.0</td>\n",
       "      <td>1</td>\n",
       "    </tr>\n",
       "    <tr>\n",
       "      <th>1</th>\n",
       "      <td>41979</td>\n",
       "      <td>1610612755</td>\n",
       "      <td>PHL</td>\n",
       "      <td>Philadelphia 76ers</td>\n",
       "      <td>47900045</td>\n",
       "      <td>1980-05-10</td>\n",
       "      <td>PHL vs. LAL</td>\n",
       "      <td>0</td>\n",
       "      <td>45.0</td>\n",
       "      <td>93.0</td>\n",
       "      <td>...</td>\n",
       "      <td>37.0</td>\n",
       "      <td>34.0</td>\n",
       "      <td>12.0</td>\n",
       "      <td>8.0</td>\n",
       "      <td>13.0</td>\n",
       "      <td>25.0</td>\n",
       "      <td>101.0</td>\n",
       "      <td>-10.0</td>\n",
       "      <td>111.0</td>\n",
       "      <td>1</td>\n",
       "    </tr>\n",
       "    <tr>\n",
       "      <th>2</th>\n",
       "      <td>41979</td>\n",
       "      <td>1610612755</td>\n",
       "      <td>PHL</td>\n",
       "      <td>Philadelphia 76ers</td>\n",
       "      <td>47900048</td>\n",
       "      <td>1980-05-16</td>\n",
       "      <td>PHL vs. LAL</td>\n",
       "      <td>0</td>\n",
       "      <td>47.0</td>\n",
       "      <td>89.0</td>\n",
       "      <td>...</td>\n",
       "      <td>36.0</td>\n",
       "      <td>27.0</td>\n",
       "      <td>4.0</td>\n",
       "      <td>11.0</td>\n",
       "      <td>18.0</td>\n",
       "      <td>27.0</td>\n",
       "      <td>107.0</td>\n",
       "      <td>-16.0</td>\n",
       "      <td>123.0</td>\n",
       "      <td>1</td>\n",
       "    </tr>\n",
       "    <tr>\n",
       "      <th>3</th>\n",
       "      <td>31979</td>\n",
       "      <td>1610616833</td>\n",
       "      <td>EST</td>\n",
       "      <td>East NBA All Stars East</td>\n",
       "      <td>37900001</td>\n",
       "      <td>1980-02-03</td>\n",
       "      <td>EST vs. WST</td>\n",
       "      <td>1</td>\n",
       "      <td>58.0</td>\n",
       "      <td>124.0</td>\n",
       "      <td>...</td>\n",
       "      <td>62.0</td>\n",
       "      <td>34.0</td>\n",
       "      <td>20.0</td>\n",
       "      <td>9.0</td>\n",
       "      <td>30.0</td>\n",
       "      <td>30.0</td>\n",
       "      <td>144.0</td>\n",
       "      <td>8.0</td>\n",
       "      <td>136.0</td>\n",
       "      <td>1</td>\n",
       "    </tr>\n",
       "    <tr>\n",
       "      <th>4</th>\n",
       "      <td>41980</td>\n",
       "      <td>1610612738</td>\n",
       "      <td>BOS</td>\n",
       "      <td>Boston Celtics</td>\n",
       "      <td>48000048</td>\n",
       "      <td>1981-05-05</td>\n",
       "      <td>BOS vs. HOU</td>\n",
       "      <td>1</td>\n",
       "      <td>41.0</td>\n",
       "      <td>95.0</td>\n",
       "      <td>...</td>\n",
       "      <td>54.0</td>\n",
       "      <td>23.0</td>\n",
       "      <td>6.0</td>\n",
       "      <td>5.0</td>\n",
       "      <td>19.0</td>\n",
       "      <td>21.0</td>\n",
       "      <td>98.0</td>\n",
       "      <td>3.0</td>\n",
       "      <td>95.0</td>\n",
       "      <td>1</td>\n",
       "    </tr>\n",
       "  </tbody>\n",
       "</table>\n",
       "<p>5 rows × 29 columns</p>\n",
       "</div>"
      ],
      "text/plain": [
       "  season_id     team_id team_abbreviation                team_name   game_id  \\\n",
       "0     41979  1610612747               LAL       Los Angeles Lakers  47900044   \n",
       "1     41979  1610612755               PHL       Philadelphia 76ers  47900045   \n",
       "2     41979  1610612755               PHL       Philadelphia 76ers  47900048   \n",
       "3     31979  1610616833               EST  East NBA All Stars East  37900001   \n",
       "4     41980  1610612738               BOS           Boston Celtics  48000048   \n",
       "\n",
       "   game_date      matchup  wl   fgm    fga  ...   reb   ast   stl   blk   tov  \\\n",
       "0 1980-05-07  LAL vs. PHL   0  48.0   95.0  ...  52.0  32.0  12.0   7.0  26.0   \n",
       "1 1980-05-10  PHL vs. LAL   0  45.0   93.0  ...  37.0  34.0  12.0   8.0  13.0   \n",
       "2 1980-05-16  PHL vs. LAL   0  47.0   89.0  ...  36.0  27.0   4.0  11.0  18.0   \n",
       "3 1980-02-03  EST vs. WST   1  58.0  124.0  ...  62.0  34.0  20.0   9.0  30.0   \n",
       "4 1981-05-05  BOS vs. HOU   1  41.0   95.0  ...  54.0  23.0   6.0   5.0  19.0   \n",
       "\n",
       "     pf    pts  plus_minus  pts_lost  is_home  \n",
       "0  27.0  104.0        -3.0     107.0        1  \n",
       "1  25.0  101.0       -10.0     111.0        1  \n",
       "2  27.0  107.0       -16.0     123.0        1  \n",
       "3  30.0  144.0         8.0     136.0        1  \n",
       "4  21.0   98.0         3.0      95.0        1  \n",
       "\n",
       "[5 rows x 29 columns]"
      ]
     },
     "execution_count": 8,
     "metadata": {},
     "output_type": "execute_result"
    }
   ],
   "source": [
    "def transform_to_home_away_info(df):\n",
    "    # Select columns related to home and away teams, including shared game metadata\n",
    "    home_columns = [col for col in df.columns if '_home' in col or col in ['team_id_home', 'team_name_home', 'game_id', 'game_date', 'pts_away', 'season_id']]\n",
    "    away_columns = [col for col in df.columns if '_away' in col or col in ['team_id_away', 'team_name_away', 'game_id', 'game_date', 'pts_home', 'season_id']]\n",
    "\n",
    "    # Create separate DataFrames for home and away teams\n",
    "    df_home = df[home_columns].copy()\n",
    "    df_away = df[away_columns].copy()\n",
    "\n",
    "    # Remove '_home'/'_away' suffixes and rename columns for consistency\n",
    "    df_home.columns = df_home.columns.str.replace('_home', '')\n",
    "    df_home.rename(columns={'team_id_home': 'team_id', 'team_name_home': 'team_name', 'pts_away': 'pts_lost'}, inplace=True)\n",
    "    \n",
    "    df_away.columns = df_away.columns.str.replace('_away', '')\n",
    "    df_away.rename(columns={'team_id_away': 'team_id', 'team_name_away': 'team_name', 'pts_home': 'pts_lost'}, inplace=True)\n",
    "\n",
    "    # Add a flag indicating whether the team was playing at home\n",
    "    df_home['is_home'] = 1\n",
    "    df_away['is_home'] = 0\n",
    "\n",
    "    # Combine both DataFrames into a single one\n",
    "    df_combined = pd.concat([df_home, df_away], ignore_index=True)\n",
    "    \n",
    "    # Convert win/loss indicators from 'W'/'L' to binary values: 1 for win, 0 for loss\n",
    "    df_combined['wl'] = df_combined['wl'].map({'W': 1, 'L': 0})\n",
    "\n",
    "    # Convert game_date to datetime format\n",
    "    df_combined['game_date'] = pd.to_datetime(df_combined['game_date'])\n",
    "\n",
    "    return df_combined\n",
    "\n",
    "# Apply transformation to the DataFrame\n",
    "df = transform_to_home_away_info(df)\n",
    "df.head(5)\n"
   ]
  },
  {
   "cell_type": "code",
   "execution_count": 9,
   "metadata": {},
   "outputs": [
    {
     "name": "stdout",
     "output_type": "stream",
     "text": [
      "          team_id                 team_name\n",
      "82609          41  Tel Aviv Maccabi Electra\n",
      "26867          45          China Team China\n",
      "78434          93       Haifa Maccabi Haifa\n",
      "36695          94     Milano Olimpia Milano\n",
      "78510          95      Vitoria Caja Laboral\n",
      "...           ...                       ...\n",
      "4465   1610612764        Washington Bullets\n",
      "56563  1610612765           Detroit Pistons\n",
      "94503  1610612766         Charlotte Hornets\n",
      "36880  1610616833   East NBA All Stars East\n",
      "9612   1610616834   West NBA All Stars West\n",
      "\n",
      "[67 rows x 2 columns]\n"
     ]
    }
   ],
   "source": [
    "print(df[['team_id','team_name']].sort_values(by='team_id').drop_duplicates(subset=['team_id']))"
   ]
  },
  {
   "cell_type": "markdown",
   "metadata": {},
   "source": [
    "Computing advanced basketball statistics for each game, such as possessions, offensive/defensive ratings, effective field goal percentage, true shooting percentage, and other metrics to enhance predictive modeling."
   ]
  },
  {
   "cell_type": "code",
   "execution_count": 10,
   "metadata": {},
   "outputs": [
    {
     "data": {
      "application/vnd.microsoft.datawrangler.viewer.v0+json": {
       "columns": [
        {
         "name": "index",
         "rawType": "int64",
         "type": "integer"
        },
        {
         "name": "season_id",
         "rawType": "object",
         "type": "unknown"
        },
        {
         "name": "team_id",
         "rawType": "int64",
         "type": "integer"
        },
        {
         "name": "team_abbreviation",
         "rawType": "object",
         "type": "string"
        },
        {
         "name": "team_name",
         "rawType": "object",
         "type": "string"
        },
        {
         "name": "game_id",
         "rawType": "int64",
         "type": "integer"
        },
        {
         "name": "game_date",
         "rawType": "datetime64[ns]",
         "type": "datetime"
        },
        {
         "name": "matchup",
         "rawType": "object",
         "type": "string"
        },
        {
         "name": "wl",
         "rawType": "int64",
         "type": "integer"
        },
        {
         "name": "fgm",
         "rawType": "float64",
         "type": "float"
        },
        {
         "name": "fga",
         "rawType": "float64",
         "type": "float"
        },
        {
         "name": "fg_pct",
         "rawType": "float64",
         "type": "float"
        },
        {
         "name": "fg3m",
         "rawType": "float64",
         "type": "float"
        },
        {
         "name": "fg3a",
         "rawType": "float64",
         "type": "float"
        },
        {
         "name": "fg3_pct",
         "rawType": "float64",
         "type": "float"
        },
        {
         "name": "ftm",
         "rawType": "float64",
         "type": "float"
        },
        {
         "name": "fta",
         "rawType": "float64",
         "type": "float"
        },
        {
         "name": "ft_pct",
         "rawType": "float64",
         "type": "float"
        },
        {
         "name": "oreb",
         "rawType": "float64",
         "type": "float"
        },
        {
         "name": "dreb",
         "rawType": "float64",
         "type": "float"
        },
        {
         "name": "reb",
         "rawType": "float64",
         "type": "float"
        },
        {
         "name": "ast",
         "rawType": "float64",
         "type": "float"
        },
        {
         "name": "stl",
         "rawType": "float64",
         "type": "float"
        },
        {
         "name": "blk",
         "rawType": "float64",
         "type": "float"
        },
        {
         "name": "tov",
         "rawType": "float64",
         "type": "float"
        },
        {
         "name": "pf",
         "rawType": "float64",
         "type": "float"
        },
        {
         "name": "pts",
         "rawType": "float64",
         "type": "float"
        },
        {
         "name": "plus_minus",
         "rawType": "float64",
         "type": "float"
        },
        {
         "name": "pts_lost",
         "rawType": "float64",
         "type": "float"
        },
        {
         "name": "is_home",
         "rawType": "int64",
         "type": "integer"
        },
        {
         "name": "possessions",
         "rawType": "float64",
         "type": "float"
        },
        {
         "name": "ORTG",
         "rawType": "float64",
         "type": "float"
        },
        {
         "name": "DRTG",
         "rawType": "float64",
         "type": "float"
        },
        {
         "name": "eFG%",
         "rawType": "float64",
         "type": "float"
        },
        {
         "name": "TS%",
         "rawType": "float64",
         "type": "float"
        },
        {
         "name": "AST%",
         "rawType": "float64",
         "type": "float"
        },
        {
         "name": "PF%",
         "rawType": "float64",
         "type": "float"
        },
        {
         "name": "TOV%",
         "rawType": "float64",
         "type": "float"
        },
        {
         "name": "FTR",
         "rawType": "float64",
         "type": "float"
        },
        {
         "name": "PPS",
         "rawType": "float64",
         "type": "float"
        },
        {
         "name": "3PAr",
         "rawType": "float64",
         "type": "float"
        }
       ],
       "conversionMethod": "pd.DataFrame",
       "ref": "8b6d863f-f51b-4b47-b36c-67401a66da11",
       "rows": [
        [
         "0",
         "41979",
         "1610612747",
         "LAL",
         "Los Angeles Lakers",
         "47900044",
         "1980-05-07 00:00:00",
         "LAL vs. PHL",
         "0",
         "48.0",
         "95.0",
         "0.505",
         "0.0",
         "1.0",
         "0.0",
         "8.0",
         "12.0",
         "0.667",
         "15.0",
         "37.0",
         "52.0",
         "32.0",
         "12.0",
         "7.0",
         "26.0",
         "27.0",
         "104.0",
         "-3.0",
         "107.0",
         "1",
         "111.28",
         "0.9345794392523364",
         "0.9615384615384616",
         "0.5052631578947369",
         "0.5185480654168328",
         "0.6666666666666666",
         "0.2426312005751258",
         "0.2336448598130841",
         "0.12631578947368421",
         "1.0947368421052632",
         "0.010526315789473684"
        ],
        [
         "1",
         "41979",
         "1610612755",
         "PHL",
         "Philadelphia 76ers",
         "47900045",
         "1980-05-10 00:00:00",
         "PHL vs. LAL",
         "0",
         "45.0",
         "93.0",
         "0.484",
         "1.0",
         "4.0",
         "0.25",
         "10.0",
         "17.0",
         "0.588",
         "13.0",
         "24.0",
         "37.0",
         "34.0",
         "12.0",
         "8.0",
         "13.0",
         "25.0",
         "101.0",
         "-10.0",
         "111.0",
         "1",
         "100.48",
         "1.0051751592356688",
         "1.1046974522292994",
         "0.489247311827957",
         "0.5025875796178344",
         "0.7555555555555555",
         "0.24880573248407642",
         "0.12937898089171973",
         "0.1827956989247312",
         "1.086021505376344",
         "0.043010752688172046"
        ],
        [
         "2",
         "41979",
         "1610612755",
         "PHL",
         "Philadelphia 76ers",
         "47900048",
         "1980-05-16 00:00:00",
         "PHL vs. LAL",
         "0",
         "47.0",
         "89.0",
         "0.528",
         "0.0",
         "6.0",
         "0.0",
         "13.0",
         "22.0",
         "0.591",
         "7.0",
         "29.0",
         "36.0",
         "27.0",
         "4.0",
         "11.0",
         "18.0",
         "27.0",
         "107.0",
         "-16.0",
         "123.0",
         "1",
         "109.68",
         "0.9755652808169218",
         "1.1214442013129102",
         "0.5280898876404494",
         "0.5421564653425213",
         "0.574468085106383",
         "0.24617067833698028",
         "0.16411378555798686",
         "0.24719101123595505",
         "1.202247191011236",
         "0.06741573033707865"
        ],
        [
         "3",
         "31979",
         "1610616833",
         "EST",
         "East NBA All Stars East",
         "37900001",
         "1980-02-03 00:00:00",
         "EST vs. WST",
         "1",
         "58.0",
         "124.0",
         "0.468",
         "1.0",
         "2.0",
         "0.5",
         "27.0",
         "44.0",
         "0.614",
         "31.0",
         "31.0",
         "62.0",
         "34.0",
         "20.0",
         "9.0",
         "30.0",
         "30.0",
         "144.0",
         "8.0",
         "136.0",
         "1",
         "142.36",
         "1.0115200899128969",
         "0.9553245293621803",
         "0.4717741935483871",
         "0.5022321428571428",
         "0.5862068965517241",
         "0.21073335206518684",
         "0.21073335206518684",
         "0.3548387096774194",
         "1.1612903225806452",
         "0.016129032258064516"
        ],
        [
         "4",
         "41980",
         "1610612738",
         "BOS",
         "Boston Celtics",
         "48000048",
         "1981-05-05 00:00:00",
         "BOS vs. HOU",
         "1",
         "41.0",
         "95.0",
         "0.432",
         "0.0",
         "1.0",
         "0.0",
         "16.0",
         "20.0",
         "0.8",
         "25.0",
         "29.0",
         "54.0",
         "23.0",
         "6.0",
         "5.0",
         "19.0",
         "21.0",
         "98.0",
         "3.0",
         "95.0",
         "1",
         "97.8",
         "1.0020449897750512",
         "0.9713701431492843",
         "0.43157894736842106",
         "0.4720616570327553",
         "0.5609756097560976",
         "0.2147239263803681",
         "0.19427402862985685",
         "0.21052631578947367",
         "1.0315789473684212",
         "0.010526315789473684"
        ]
       ],
       "shape": {
        "columns": 40,
        "rows": 5
       }
      },
      "text/html": [
       "<div>\n",
       "<style scoped>\n",
       "    .dataframe tbody tr th:only-of-type {\n",
       "        vertical-align: middle;\n",
       "    }\n",
       "\n",
       "    .dataframe tbody tr th {\n",
       "        vertical-align: top;\n",
       "    }\n",
       "\n",
       "    .dataframe thead th {\n",
       "        text-align: right;\n",
       "    }\n",
       "</style>\n",
       "<table border=\"1\" class=\"dataframe\">\n",
       "  <thead>\n",
       "    <tr style=\"text-align: right;\">\n",
       "      <th></th>\n",
       "      <th>season_id</th>\n",
       "      <th>team_id</th>\n",
       "      <th>team_abbreviation</th>\n",
       "      <th>team_name</th>\n",
       "      <th>game_id</th>\n",
       "      <th>game_date</th>\n",
       "      <th>matchup</th>\n",
       "      <th>wl</th>\n",
       "      <th>fgm</th>\n",
       "      <th>fga</th>\n",
       "      <th>...</th>\n",
       "      <th>ORTG</th>\n",
       "      <th>DRTG</th>\n",
       "      <th>eFG%</th>\n",
       "      <th>TS%</th>\n",
       "      <th>AST%</th>\n",
       "      <th>PF%</th>\n",
       "      <th>TOV%</th>\n",
       "      <th>FTR</th>\n",
       "      <th>PPS</th>\n",
       "      <th>3PAr</th>\n",
       "    </tr>\n",
       "  </thead>\n",
       "  <tbody>\n",
       "    <tr>\n",
       "      <th>0</th>\n",
       "      <td>41979</td>\n",
       "      <td>1610612747</td>\n",
       "      <td>LAL</td>\n",
       "      <td>Los Angeles Lakers</td>\n",
       "      <td>47900044</td>\n",
       "      <td>1980-05-07</td>\n",
       "      <td>LAL vs. PHL</td>\n",
       "      <td>0</td>\n",
       "      <td>48.0</td>\n",
       "      <td>95.0</td>\n",
       "      <td>...</td>\n",
       "      <td>0.934579</td>\n",
       "      <td>0.961538</td>\n",
       "      <td>0.505263</td>\n",
       "      <td>0.518548</td>\n",
       "      <td>0.666667</td>\n",
       "      <td>0.242631</td>\n",
       "      <td>0.233645</td>\n",
       "      <td>0.126316</td>\n",
       "      <td>1.094737</td>\n",
       "      <td>0.010526</td>\n",
       "    </tr>\n",
       "    <tr>\n",
       "      <th>1</th>\n",
       "      <td>41979</td>\n",
       "      <td>1610612755</td>\n",
       "      <td>PHL</td>\n",
       "      <td>Philadelphia 76ers</td>\n",
       "      <td>47900045</td>\n",
       "      <td>1980-05-10</td>\n",
       "      <td>PHL vs. LAL</td>\n",
       "      <td>0</td>\n",
       "      <td>45.0</td>\n",
       "      <td>93.0</td>\n",
       "      <td>...</td>\n",
       "      <td>1.005175</td>\n",
       "      <td>1.104697</td>\n",
       "      <td>0.489247</td>\n",
       "      <td>0.502588</td>\n",
       "      <td>0.755556</td>\n",
       "      <td>0.248806</td>\n",
       "      <td>0.129379</td>\n",
       "      <td>0.182796</td>\n",
       "      <td>1.086022</td>\n",
       "      <td>0.043011</td>\n",
       "    </tr>\n",
       "    <tr>\n",
       "      <th>2</th>\n",
       "      <td>41979</td>\n",
       "      <td>1610612755</td>\n",
       "      <td>PHL</td>\n",
       "      <td>Philadelphia 76ers</td>\n",
       "      <td>47900048</td>\n",
       "      <td>1980-05-16</td>\n",
       "      <td>PHL vs. LAL</td>\n",
       "      <td>0</td>\n",
       "      <td>47.0</td>\n",
       "      <td>89.0</td>\n",
       "      <td>...</td>\n",
       "      <td>0.975565</td>\n",
       "      <td>1.121444</td>\n",
       "      <td>0.528090</td>\n",
       "      <td>0.542156</td>\n",
       "      <td>0.574468</td>\n",
       "      <td>0.246171</td>\n",
       "      <td>0.164114</td>\n",
       "      <td>0.247191</td>\n",
       "      <td>1.202247</td>\n",
       "      <td>0.067416</td>\n",
       "    </tr>\n",
       "    <tr>\n",
       "      <th>3</th>\n",
       "      <td>31979</td>\n",
       "      <td>1610616833</td>\n",
       "      <td>EST</td>\n",
       "      <td>East NBA All Stars East</td>\n",
       "      <td>37900001</td>\n",
       "      <td>1980-02-03</td>\n",
       "      <td>EST vs. WST</td>\n",
       "      <td>1</td>\n",
       "      <td>58.0</td>\n",
       "      <td>124.0</td>\n",
       "      <td>...</td>\n",
       "      <td>1.011520</td>\n",
       "      <td>0.955325</td>\n",
       "      <td>0.471774</td>\n",
       "      <td>0.502232</td>\n",
       "      <td>0.586207</td>\n",
       "      <td>0.210733</td>\n",
       "      <td>0.210733</td>\n",
       "      <td>0.354839</td>\n",
       "      <td>1.161290</td>\n",
       "      <td>0.016129</td>\n",
       "    </tr>\n",
       "    <tr>\n",
       "      <th>4</th>\n",
       "      <td>41980</td>\n",
       "      <td>1610612738</td>\n",
       "      <td>BOS</td>\n",
       "      <td>Boston Celtics</td>\n",
       "      <td>48000048</td>\n",
       "      <td>1981-05-05</td>\n",
       "      <td>BOS vs. HOU</td>\n",
       "      <td>1</td>\n",
       "      <td>41.0</td>\n",
       "      <td>95.0</td>\n",
       "      <td>...</td>\n",
       "      <td>1.002045</td>\n",
       "      <td>0.971370</td>\n",
       "      <td>0.431579</td>\n",
       "      <td>0.472062</td>\n",
       "      <td>0.560976</td>\n",
       "      <td>0.214724</td>\n",
       "      <td>0.194274</td>\n",
       "      <td>0.210526</td>\n",
       "      <td>1.031579</td>\n",
       "      <td>0.010526</td>\n",
       "    </tr>\n",
       "  </tbody>\n",
       "</table>\n",
       "<p>5 rows × 40 columns</p>\n",
       "</div>"
      ],
      "text/plain": [
       "  season_id     team_id team_abbreviation                team_name   game_id  \\\n",
       "0     41979  1610612747               LAL       Los Angeles Lakers  47900044   \n",
       "1     41979  1610612755               PHL       Philadelphia 76ers  47900045   \n",
       "2     41979  1610612755               PHL       Philadelphia 76ers  47900048   \n",
       "3     31979  1610616833               EST  East NBA All Stars East  37900001   \n",
       "4     41980  1610612738               BOS           Boston Celtics  48000048   \n",
       "\n",
       "   game_date      matchup  wl   fgm    fga  ...      ORTG      DRTG      eFG%  \\\n",
       "0 1980-05-07  LAL vs. PHL   0  48.0   95.0  ...  0.934579  0.961538  0.505263   \n",
       "1 1980-05-10  PHL vs. LAL   0  45.0   93.0  ...  1.005175  1.104697  0.489247   \n",
       "2 1980-05-16  PHL vs. LAL   0  47.0   89.0  ...  0.975565  1.121444  0.528090   \n",
       "3 1980-02-03  EST vs. WST   1  58.0  124.0  ...  1.011520  0.955325  0.471774   \n",
       "4 1981-05-05  BOS vs. HOU   1  41.0   95.0  ...  1.002045  0.971370  0.431579   \n",
       "\n",
       "        TS%      AST%       PF%      TOV%       FTR       PPS      3PAr  \n",
       "0  0.518548  0.666667  0.242631  0.233645  0.126316  1.094737  0.010526  \n",
       "1  0.502588  0.755556  0.248806  0.129379  0.182796  1.086022  0.043011  \n",
       "2  0.542156  0.574468  0.246171  0.164114  0.247191  1.202247  0.067416  \n",
       "3  0.502232  0.586207  0.210733  0.210733  0.354839  1.161290  0.016129  \n",
       "4  0.472062  0.560976  0.214724  0.194274  0.210526  1.031579  0.010526  \n",
       "\n",
       "[5 rows x 40 columns]"
      ]
     },
     "execution_count": 10,
     "metadata": {},
     "output_type": "execute_result"
    }
   ],
   "source": [
    "def calculate_advanced_stats(df):\n",
    "    df['possessions'] = df['fga'] - df['oreb'] + df['tov'] + 0.44 * df['fta']\n",
    "    df['ORTG'] = df['pts'] / df['possessions']\n",
    "    df['DRTG'] = df['pts_lost'] / df['possessions']\n",
    "    df['eFG%'] = (df['fgm'] + 0.5 * df['fg3m']) / df['fga']\n",
    "    df['TS%'] = df['pts'] / (2 * (df['fga'] + 0.44 * df['fta']))\n",
    "    df['AST%'] = df['ast'] / df['fgm']\n",
    "    df['PF%'] = df['pf'] / (df['possessions'])\n",
    "    df['TOV%'] = df['tov'] / df['possessions']\n",
    "    df['FTR'] = df['fta'] / df['fga']\n",
    "    df['PPS'] = df['pts'] / df['fga']\n",
    "    df['3PAr'] = df['fg3a'] / df['fga']\n",
    "    return df\n",
    "df = calculate_advanced_stats(df)\n",
    "df.head(5)"
   ]
  },
  {
   "cell_type": "markdown",
   "metadata": {},
   "source": [
    "Spliting the DataFrame by season and applies a provided function to each season's data, then recombines the results. Useful for season-specific calculations while maintaining data integrity."
   ]
  },
  {
   "cell_type": "code",
   "execution_count": 11,
   "metadata": {},
   "outputs": [],
   "source": [
    "def season_split(df, func):    \n",
    "    unique_seasons = df['season_id'].unique()\n",
    "    \n",
    "    modified_frames = []\n",
    "    \n",
    "    for season in unique_seasons:\n",
    "        subframe = df[df['season_id'] == season].copy()\n",
    "        modified_subframe = func(subframe)\n",
    "        modified_frames.append(modified_subframe)\n",
    "        \n",
    "    df = pd.concat(modified_frames, ignore_index=True)\n",
    "    return df"
   ]
  },
  {
   "cell_type": "markdown",
   "metadata": {},
   "source": [
    "Calculating the cumulative win/loss ratio for each team by sorting games chronologically and tracking wins and games played, providing a measure of team performance over time."
   ]
  },
  {
   "cell_type": "code",
   "execution_count": 12,
   "metadata": {},
   "outputs": [
    {
     "data": {
      "application/vnd.microsoft.datawrangler.viewer.v0+json": {
       "columns": [
        {
         "name": "index",
         "rawType": "int64",
         "type": "integer"
        },
        {
         "name": "season_id",
         "rawType": "object",
         "type": "unknown"
        },
        {
         "name": "team_id",
         "rawType": "int64",
         "type": "integer"
        },
        {
         "name": "team_abbreviation",
         "rawType": "object",
         "type": "string"
        },
        {
         "name": "team_name",
         "rawType": "object",
         "type": "string"
        },
        {
         "name": "game_id",
         "rawType": "int64",
         "type": "integer"
        },
        {
         "name": "game_date",
         "rawType": "datetime64[ns]",
         "type": "datetime"
        },
        {
         "name": "matchup",
         "rawType": "object",
         "type": "string"
        },
        {
         "name": "wl",
         "rawType": "int64",
         "type": "integer"
        },
        {
         "name": "fgm",
         "rawType": "float64",
         "type": "float"
        },
        {
         "name": "fga",
         "rawType": "float64",
         "type": "float"
        },
        {
         "name": "fg_pct",
         "rawType": "float64",
         "type": "float"
        },
        {
         "name": "fg3m",
         "rawType": "float64",
         "type": "float"
        },
        {
         "name": "fg3a",
         "rawType": "float64",
         "type": "float"
        },
        {
         "name": "fg3_pct",
         "rawType": "float64",
         "type": "float"
        },
        {
         "name": "ftm",
         "rawType": "float64",
         "type": "float"
        },
        {
         "name": "fta",
         "rawType": "float64",
         "type": "float"
        },
        {
         "name": "ft_pct",
         "rawType": "float64",
         "type": "float"
        },
        {
         "name": "oreb",
         "rawType": "float64",
         "type": "float"
        },
        {
         "name": "dreb",
         "rawType": "float64",
         "type": "float"
        },
        {
         "name": "reb",
         "rawType": "float64",
         "type": "float"
        },
        {
         "name": "ast",
         "rawType": "float64",
         "type": "float"
        },
        {
         "name": "stl",
         "rawType": "float64",
         "type": "float"
        },
        {
         "name": "blk",
         "rawType": "float64",
         "type": "float"
        },
        {
         "name": "tov",
         "rawType": "float64",
         "type": "float"
        },
        {
         "name": "pf",
         "rawType": "float64",
         "type": "float"
        },
        {
         "name": "pts",
         "rawType": "float64",
         "type": "float"
        },
        {
         "name": "plus_minus",
         "rawType": "float64",
         "type": "float"
        },
        {
         "name": "pts_lost",
         "rawType": "float64",
         "type": "float"
        },
        {
         "name": "is_home",
         "rawType": "int64",
         "type": "integer"
        },
        {
         "name": "possessions",
         "rawType": "float64",
         "type": "float"
        },
        {
         "name": "ORTG",
         "rawType": "float64",
         "type": "float"
        },
        {
         "name": "DRTG",
         "rawType": "float64",
         "type": "float"
        },
        {
         "name": "eFG%",
         "rawType": "float64",
         "type": "float"
        },
        {
         "name": "TS%",
         "rawType": "float64",
         "type": "float"
        },
        {
         "name": "AST%",
         "rawType": "float64",
         "type": "float"
        },
        {
         "name": "PF%",
         "rawType": "float64",
         "type": "float"
        },
        {
         "name": "TOV%",
         "rawType": "float64",
         "type": "float"
        },
        {
         "name": "FTR",
         "rawType": "float64",
         "type": "float"
        },
        {
         "name": "PPS",
         "rawType": "float64",
         "type": "float"
        },
        {
         "name": "3PAr",
         "rawType": "float64",
         "type": "float"
        },
        {
         "name": "win_loss_ratio",
         "rawType": "float64",
         "type": "float"
        }
       ],
       "conversionMethod": "pd.DataFrame",
       "ref": "05ded98c-637b-4d15-8a06-5f7375631a2d",
       "rows": [
        [
         "0",
         "41979",
         "1610612747",
         "LAL",
         "Los Angeles Lakers",
         "47900044",
         "1980-05-07 00:00:00",
         "LAL vs. PHL",
         "0",
         "48.0",
         "95.0",
         "0.505",
         "0.0",
         "1.0",
         "0.0",
         "8.0",
         "12.0",
         "0.667",
         "15.0",
         "37.0",
         "52.0",
         "32.0",
         "12.0",
         "7.0",
         "26.0",
         "27.0",
         "104.0",
         "-3.0",
         "107.0",
         "1",
         "111.28",
         "0.9345794392523364",
         "0.9615384615384616",
         "0.5052631578947369",
         "0.5185480654168328",
         "0.6666666666666666",
         "0.2426312005751258",
         "0.2336448598130841",
         "0.12631578947368421",
         "1.0947368421052632",
         "0.010526315789473684",
         null
        ],
        [
         "1",
         "41979",
         "1610612747",
         "LAL",
         "Los Angeles Lakers",
         "47900045",
         "1980-05-10 00:00:00",
         "LAL @ PHL",
         "1",
         "44.0",
         "92.0",
         "0.478",
         "0.0",
         "1.0",
         "0.0",
         "23.0",
         "30.0",
         "0.767",
         "22.0",
         "34.0",
         "56.0",
         "20.0",
         "5.0",
         "5.0",
         "20.0",
         "25.0",
         "111.0",
         "10.0",
         "101.0",
         "0",
         "103.2",
         "1.0755813953488371",
         "0.9786821705426356",
         "0.4782608695652174",
         "0.5275665399239543",
         "0.45454545454545453",
         "0.24224806201550386",
         "0.19379844961240308",
         "0.32608695652173914",
         "1.2065217391304348",
         "0.010869565217391304",
         "0.0"
        ],
        [
         "2",
         "41979",
         "1610612747",
         "LAL",
         "Los Angeles Lakers",
         "47900048",
         "1980-05-16 00:00:00",
         "LAL @ PHL",
         "1",
         "45.0",
         "92.0",
         "0.489",
         "0.0",
         "2.0",
         "0.0",
         "33.0",
         "35.0",
         "0.943",
         "17.0",
         "35.0",
         "52.0",
         "27.0",
         "14.0",
         "4.0",
         "17.0",
         "22.0",
         "123.0",
         "16.0",
         "107.0",
         "0",
         "107.4",
         "1.1452513966480447",
         "0.9962756052141526",
         "0.4891304347826087",
         "0.5726256983240223",
         "0.6",
         "0.20484171322160147",
         "0.15828677839851024",
         "0.3804347826086957",
         "1.3369565217391304",
         "0.021739130434782608",
         "0.5"
        ],
        [
         "3",
         "41979",
         "1610612755",
         "PHL",
         "Philadelphia 76ers",
         "47900044",
         "1980-05-07 00:00:00",
         "PHL @ LAL",
         "1",
         "43.0",
         "85.0",
         "0.506",
         "0.0",
         "1.0",
         "0.0",
         "21.0",
         "27.0",
         "0.778",
         "5.0",
         "29.0",
         "34.0",
         "34.0",
         "14.0",
         "11.0",
         "20.0",
         "21.0",
         "107.0",
         "3.0",
         "104.0",
         "0",
         "111.88",
         "0.956381837683232",
         "0.9295673936360387",
         "0.5058823529411764",
         "0.5522295623451693",
         "0.7906976744186046",
         "0.18770110833035397",
         "0.17876296031462283",
         "0.3176470588235294",
         "1.2588235294117647",
         "0.011764705882352941",
         null
        ],
        [
         "4",
         "41979",
         "1610612755",
         "PHL",
         "Philadelphia 76ers",
         "47900045",
         "1980-05-10 00:00:00",
         "PHL vs. LAL",
         "0",
         "45.0",
         "93.0",
         "0.484",
         "1.0",
         "4.0",
         "0.25",
         "10.0",
         "17.0",
         "0.588",
         "13.0",
         "24.0",
         "37.0",
         "34.0",
         "12.0",
         "8.0",
         "13.0",
         "25.0",
         "101.0",
         "-10.0",
         "111.0",
         "1",
         "100.48",
         "1.0051751592356688",
         "1.1046974522292994",
         "0.489247311827957",
         "0.5025875796178344",
         "0.7555555555555555",
         "0.24880573248407642",
         "0.12937898089171973",
         "0.1827956989247312",
         "1.086021505376344",
         "0.043010752688172046",
         "1.0"
        ]
       ],
       "shape": {
        "columns": 41,
        "rows": 5
       }
      },
      "text/html": [
       "<div>\n",
       "<style scoped>\n",
       "    .dataframe tbody tr th:only-of-type {\n",
       "        vertical-align: middle;\n",
       "    }\n",
       "\n",
       "    .dataframe tbody tr th {\n",
       "        vertical-align: top;\n",
       "    }\n",
       "\n",
       "    .dataframe thead th {\n",
       "        text-align: right;\n",
       "    }\n",
       "</style>\n",
       "<table border=\"1\" class=\"dataframe\">\n",
       "  <thead>\n",
       "    <tr style=\"text-align: right;\">\n",
       "      <th></th>\n",
       "      <th>season_id</th>\n",
       "      <th>team_id</th>\n",
       "      <th>team_abbreviation</th>\n",
       "      <th>team_name</th>\n",
       "      <th>game_id</th>\n",
       "      <th>game_date</th>\n",
       "      <th>matchup</th>\n",
       "      <th>wl</th>\n",
       "      <th>fgm</th>\n",
       "      <th>fga</th>\n",
       "      <th>...</th>\n",
       "      <th>DRTG</th>\n",
       "      <th>eFG%</th>\n",
       "      <th>TS%</th>\n",
       "      <th>AST%</th>\n",
       "      <th>PF%</th>\n",
       "      <th>TOV%</th>\n",
       "      <th>FTR</th>\n",
       "      <th>PPS</th>\n",
       "      <th>3PAr</th>\n",
       "      <th>win_loss_ratio</th>\n",
       "    </tr>\n",
       "  </thead>\n",
       "  <tbody>\n",
       "    <tr>\n",
       "      <th>0</th>\n",
       "      <td>41979</td>\n",
       "      <td>1610612747</td>\n",
       "      <td>LAL</td>\n",
       "      <td>Los Angeles Lakers</td>\n",
       "      <td>47900044</td>\n",
       "      <td>1980-05-07</td>\n",
       "      <td>LAL vs. PHL</td>\n",
       "      <td>0</td>\n",
       "      <td>48.0</td>\n",
       "      <td>95.0</td>\n",
       "      <td>...</td>\n",
       "      <td>0.961538</td>\n",
       "      <td>0.505263</td>\n",
       "      <td>0.518548</td>\n",
       "      <td>0.666667</td>\n",
       "      <td>0.242631</td>\n",
       "      <td>0.233645</td>\n",
       "      <td>0.126316</td>\n",
       "      <td>1.094737</td>\n",
       "      <td>0.010526</td>\n",
       "      <td>NaN</td>\n",
       "    </tr>\n",
       "    <tr>\n",
       "      <th>1</th>\n",
       "      <td>41979</td>\n",
       "      <td>1610612747</td>\n",
       "      <td>LAL</td>\n",
       "      <td>Los Angeles Lakers</td>\n",
       "      <td>47900045</td>\n",
       "      <td>1980-05-10</td>\n",
       "      <td>LAL @ PHL</td>\n",
       "      <td>1</td>\n",
       "      <td>44.0</td>\n",
       "      <td>92.0</td>\n",
       "      <td>...</td>\n",
       "      <td>0.978682</td>\n",
       "      <td>0.478261</td>\n",
       "      <td>0.527567</td>\n",
       "      <td>0.454545</td>\n",
       "      <td>0.242248</td>\n",
       "      <td>0.193798</td>\n",
       "      <td>0.326087</td>\n",
       "      <td>1.206522</td>\n",
       "      <td>0.010870</td>\n",
       "      <td>0.0</td>\n",
       "    </tr>\n",
       "    <tr>\n",
       "      <th>2</th>\n",
       "      <td>41979</td>\n",
       "      <td>1610612747</td>\n",
       "      <td>LAL</td>\n",
       "      <td>Los Angeles Lakers</td>\n",
       "      <td>47900048</td>\n",
       "      <td>1980-05-16</td>\n",
       "      <td>LAL @ PHL</td>\n",
       "      <td>1</td>\n",
       "      <td>45.0</td>\n",
       "      <td>92.0</td>\n",
       "      <td>...</td>\n",
       "      <td>0.996276</td>\n",
       "      <td>0.489130</td>\n",
       "      <td>0.572626</td>\n",
       "      <td>0.600000</td>\n",
       "      <td>0.204842</td>\n",
       "      <td>0.158287</td>\n",
       "      <td>0.380435</td>\n",
       "      <td>1.336957</td>\n",
       "      <td>0.021739</td>\n",
       "      <td>0.5</td>\n",
       "    </tr>\n",
       "    <tr>\n",
       "      <th>3</th>\n",
       "      <td>41979</td>\n",
       "      <td>1610612755</td>\n",
       "      <td>PHL</td>\n",
       "      <td>Philadelphia 76ers</td>\n",
       "      <td>47900044</td>\n",
       "      <td>1980-05-07</td>\n",
       "      <td>PHL @ LAL</td>\n",
       "      <td>1</td>\n",
       "      <td>43.0</td>\n",
       "      <td>85.0</td>\n",
       "      <td>...</td>\n",
       "      <td>0.929567</td>\n",
       "      <td>0.505882</td>\n",
       "      <td>0.552230</td>\n",
       "      <td>0.790698</td>\n",
       "      <td>0.187701</td>\n",
       "      <td>0.178763</td>\n",
       "      <td>0.317647</td>\n",
       "      <td>1.258824</td>\n",
       "      <td>0.011765</td>\n",
       "      <td>NaN</td>\n",
       "    </tr>\n",
       "    <tr>\n",
       "      <th>4</th>\n",
       "      <td>41979</td>\n",
       "      <td>1610612755</td>\n",
       "      <td>PHL</td>\n",
       "      <td>Philadelphia 76ers</td>\n",
       "      <td>47900045</td>\n",
       "      <td>1980-05-10</td>\n",
       "      <td>PHL vs. LAL</td>\n",
       "      <td>0</td>\n",
       "      <td>45.0</td>\n",
       "      <td>93.0</td>\n",
       "      <td>...</td>\n",
       "      <td>1.104697</td>\n",
       "      <td>0.489247</td>\n",
       "      <td>0.502588</td>\n",
       "      <td>0.755556</td>\n",
       "      <td>0.248806</td>\n",
       "      <td>0.129379</td>\n",
       "      <td>0.182796</td>\n",
       "      <td>1.086022</td>\n",
       "      <td>0.043011</td>\n",
       "      <td>1.0</td>\n",
       "    </tr>\n",
       "  </tbody>\n",
       "</table>\n",
       "<p>5 rows × 41 columns</p>\n",
       "</div>"
      ],
      "text/plain": [
       "  season_id     team_id team_abbreviation           team_name   game_id  \\\n",
       "0     41979  1610612747               LAL  Los Angeles Lakers  47900044   \n",
       "1     41979  1610612747               LAL  Los Angeles Lakers  47900045   \n",
       "2     41979  1610612747               LAL  Los Angeles Lakers  47900048   \n",
       "3     41979  1610612755               PHL  Philadelphia 76ers  47900044   \n",
       "4     41979  1610612755               PHL  Philadelphia 76ers  47900045   \n",
       "\n",
       "   game_date      matchup  wl   fgm   fga  ...      DRTG      eFG%       TS%  \\\n",
       "0 1980-05-07  LAL vs. PHL   0  48.0  95.0  ...  0.961538  0.505263  0.518548   \n",
       "1 1980-05-10    LAL @ PHL   1  44.0  92.0  ...  0.978682  0.478261  0.527567   \n",
       "2 1980-05-16    LAL @ PHL   1  45.0  92.0  ...  0.996276  0.489130  0.572626   \n",
       "3 1980-05-07    PHL @ LAL   1  43.0  85.0  ...  0.929567  0.505882  0.552230   \n",
       "4 1980-05-10  PHL vs. LAL   0  45.0  93.0  ...  1.104697  0.489247  0.502588   \n",
       "\n",
       "       AST%       PF%      TOV%       FTR       PPS      3PAr  win_loss_ratio  \n",
       "0  0.666667  0.242631  0.233645  0.126316  1.094737  0.010526             NaN  \n",
       "1  0.454545  0.242248  0.193798  0.326087  1.206522  0.010870             0.0  \n",
       "2  0.600000  0.204842  0.158287  0.380435  1.336957  0.021739             0.5  \n",
       "3  0.790698  0.187701  0.178763  0.317647  1.258824  0.011765             NaN  \n",
       "4  0.755556  0.248806  0.129379  0.182796  1.086022  0.043011             1.0  \n",
       "\n",
       "[5 rows x 41 columns]"
      ]
     },
     "execution_count": 12,
     "metadata": {},
     "output_type": "execute_result"
    }
   ],
   "source": [
    "def calculate_win_loss_ratio(df):\n",
    "    df = df.sort_values(by=['team_id', 'game_date']).copy()\n",
    "    df['wins'] = (df.groupby('team_id')['wl'].transform(lambda group: group.shift(1).cumsum()))\n",
    "    df['games'] = (df.groupby('team_id')['wl'].transform(lambda group: group.shift(1).expanding().count()))\n",
    "    df['win_loss_ratio'] = df['wins'] / df['games'].replace(0, np.nan)\n",
    "    df = df.drop(columns=['games', 'wins'])\n",
    "    return df\n",
    "\n",
    "\n",
    "df = season_split(df, calculate_win_loss_ratio)\n",
    "df.head(5)"
   ]
  },
  {
   "cell_type": "markdown",
   "metadata": {},
   "source": [
    "Computing rolling averages for key statistics over short-term (5 games) and long-term (15 games) windows, dropping raw stats to focus on averaged metrics for predictive consistency."
   ]
  },
  {
   "cell_type": "code",
   "execution_count": 13,
   "metadata": {},
   "outputs": [],
   "source": [
    "def avg_calc(df):\n",
    "    df_copy = df.copy()\n",
    "    \n",
    "    stats_columns = ['wl','fga', 'fg_pct', 'fg3a', 'fg3_pct', 'fgm', 'fg3m', 'ftm','dreb','plus_minus',\n",
    "                     'fta', 'ft_pct','oreb', 'reb', 'ast', 'stl', 'blk', \n",
    "                     'tov', 'pf', 'pts','pts_lost', 'possessions', 'ORTG', \n",
    "                     'DRTG', 'eFG%', 'TS%', 'AST%', 'PF%','TOV%', 'FTR', 'PPS', \n",
    "                     '3PAr']\n",
    "\n",
    "    rolling_windows = {\n",
    "        \"ShortTerm\": (5, 1),\n",
    "        \"LongTerm\": (15, 1)\n",
    "    }\n",
    "\n",
    "    for name, (window, min_periods) in rolling_windows.items():\n",
    "        avg_stats = (\n",
    "            df.groupby('team_id')[stats_columns]\n",
    "            .apply(lambda group: group.shift(1).rolling(window=window, min_periods=min_periods).mean())\n",
    "            .reset_index(level=0, drop=True)\n",
    "        )\n",
    "        df_copy = pd.concat([df_copy, avg_stats.add_suffix(f'_avg_{name}')], axis=1)\n",
    "    \n",
    "    columns_to_drop = ['fga', 'fg_pct', 'fg3a', 'fg3_pct', 'fgm', 'fg3m', 'ftm','dreb','plus_minus',\n",
    "                     'fta', 'ft_pct','oreb', 'reb', 'ast', 'stl', 'blk', \n",
    "                     'tov', 'pf', 'pts','pts_lost', 'possessions', 'ORTG', \n",
    "                     'DRTG', 'eFG%', 'TS%', 'AST%', 'PF%','TOV%', 'FTR', 'PPS', \n",
    "                     '3PAr']    \n",
    "    df_copy = df_copy.drop(columns=columns_to_drop)\n",
    "\n",
    "    return df_copy\n",
    "\n",
    "df = season_split(df,avg_calc)\n",
    "df.head(5)\n",
    "df = df.sort_values(by=['game_id']).reset_index(drop=True)"
   ]
  },
  {
   "cell_type": "markdown",
   "metadata": {},
   "source": [
    "Creating home-team and away-team perspective DataFrame by merging home and away game data, renaming columns to reflect opponent stats."
   ]
  },
  {
   "cell_type": "code",
   "execution_count": 14,
   "metadata": {},
   "outputs": [],
   "source": [
    "def home_away(df):\n",
    "    home_df = df[df['is_home'] == 1].add_suffix('_home')\n",
    "    away_df = df[df['is_home'] == 0].add_suffix('_away')\n",
    "    home_away = pd.merge(\n",
    "        home_df, away_df, \n",
    "        left_on='game_id_home', right_on='game_id_away', \n",
    "        suffixes=('_home', '_away')\n",
    "    )\n",
    "    return home_away\n",
    "\n",
    "def away_home(df):\n",
    "    home_df = df[df['is_home'] == 1].add_suffix('_home')\n",
    "    away_df = df[df['is_home'] == 0].add_suffix('_away')\n",
    "    away_home = pd.merge(\n",
    "        away_df, home_df, \n",
    "        left_on='game_id_away', right_on='game_id_home', \n",
    "        suffixes=('_away', '_home'))\n",
    "    return away_home\n",
    "home_away = home_away(df)\n",
    "away_home = away_home(df)"
   ]
  },
  {
   "cell_type": "markdown",
   "metadata": {},
   "source": [
    "Renaming columns in the NBA game DataFrame to standardize home and away team data."
   ]
  },
  {
   "cell_type": "code",
   "execution_count": 15,
   "metadata": {},
   "outputs": [],
   "source": [
    "def rename_columns_home_away(df):\n",
    "    new_columns = {}\n",
    "    for col in df.columns:\n",
    "        if col.endswith('_home'):\n",
    "            new_columns[col] = col.replace('_home', '')\n",
    "        elif col.endswith('_away'):\n",
    "            new_columns[col] = col.replace('_away', '_opp')\n",
    "    return df.rename(columns=new_columns)\n",
    "home_away = rename_columns_home_away(home_away)\n",
    "home_away = home_away.rename(columns={'is':'is_home'})\n",
    "home_away = home_away.drop(columns=['is_home_opp'])"
   ]
  },
  {
   "cell_type": "code",
   "execution_count": 16,
   "metadata": {},
   "outputs": [
    {
     "data": {
      "application/vnd.microsoft.datawrangler.viewer.v0+json": {
       "columns": [
        {
         "name": "index",
         "rawType": "int64",
         "type": "integer"
        },
        {
         "name": "season_id",
         "rawType": "object",
         "type": "unknown"
        },
        {
         "name": "team_id",
         "rawType": "int64",
         "type": "integer"
        },
        {
         "name": "team_abbreviation",
         "rawType": "object",
         "type": "string"
        },
        {
         "name": "team_name",
         "rawType": "object",
         "type": "string"
        },
        {
         "name": "game_id",
         "rawType": "int64",
         "type": "integer"
        },
        {
         "name": "game_date",
         "rawType": "datetime64[ns]",
         "type": "datetime"
        },
        {
         "name": "matchup",
         "rawType": "object",
         "type": "string"
        },
        {
         "name": "wl",
         "rawType": "int64",
         "type": "integer"
        },
        {
         "name": "is_home",
         "rawType": "int64",
         "type": "integer"
        },
        {
         "name": "win_loss_ratio",
         "rawType": "float64",
         "type": "float"
        },
        {
         "name": "wl_avg_ShortTerm",
         "rawType": "float64",
         "type": "float"
        },
        {
         "name": "fga_avg_ShortTerm",
         "rawType": "float64",
         "type": "float"
        },
        {
         "name": "fg_pct_avg_ShortTerm",
         "rawType": "float64",
         "type": "float"
        },
        {
         "name": "fg3a_avg_ShortTerm",
         "rawType": "float64",
         "type": "float"
        },
        {
         "name": "fg3_pct_avg_ShortTerm",
         "rawType": "float64",
         "type": "float"
        },
        {
         "name": "fgm_avg_ShortTerm",
         "rawType": "float64",
         "type": "float"
        },
        {
         "name": "fg3m_avg_ShortTerm",
         "rawType": "float64",
         "type": "float"
        },
        {
         "name": "ftm_avg_ShortTerm",
         "rawType": "float64",
         "type": "float"
        },
        {
         "name": "dreb_avg_ShortTerm",
         "rawType": "float64",
         "type": "float"
        },
        {
         "name": "plus_minus_avg_ShortTerm",
         "rawType": "float64",
         "type": "float"
        },
        {
         "name": "fta_avg_ShortTerm",
         "rawType": "float64",
         "type": "float"
        },
        {
         "name": "ft_pct_avg_ShortTerm",
         "rawType": "float64",
         "type": "float"
        },
        {
         "name": "oreb_avg_ShortTerm",
         "rawType": "float64",
         "type": "float"
        },
        {
         "name": "reb_avg_ShortTerm",
         "rawType": "float64",
         "type": "float"
        },
        {
         "name": "ast_avg_ShortTerm",
         "rawType": "float64",
         "type": "float"
        },
        {
         "name": "stl_avg_ShortTerm",
         "rawType": "float64",
         "type": "float"
        },
        {
         "name": "blk_avg_ShortTerm",
         "rawType": "float64",
         "type": "float"
        },
        {
         "name": "tov_avg_ShortTerm",
         "rawType": "float64",
         "type": "float"
        },
        {
         "name": "pf_avg_ShortTerm",
         "rawType": "float64",
         "type": "float"
        },
        {
         "name": "pts_avg_ShortTerm",
         "rawType": "float64",
         "type": "float"
        },
        {
         "name": "pts_lost_avg_ShortTerm",
         "rawType": "float64",
         "type": "float"
        },
        {
         "name": "possessions_avg_ShortTerm",
         "rawType": "float64",
         "type": "float"
        },
        {
         "name": "ORTG_avg_ShortTerm",
         "rawType": "float64",
         "type": "float"
        },
        {
         "name": "DRTG_avg_ShortTerm",
         "rawType": "float64",
         "type": "float"
        },
        {
         "name": "eFG%_avg_ShortTerm",
         "rawType": "float64",
         "type": "float"
        },
        {
         "name": "TS%_avg_ShortTerm",
         "rawType": "float64",
         "type": "float"
        },
        {
         "name": "AST%_avg_ShortTerm",
         "rawType": "float64",
         "type": "float"
        },
        {
         "name": "PF%_avg_ShortTerm",
         "rawType": "float64",
         "type": "float"
        },
        {
         "name": "TOV%_avg_ShortTerm",
         "rawType": "float64",
         "type": "float"
        },
        {
         "name": "FTR_avg_ShortTerm",
         "rawType": "float64",
         "type": "float"
        },
        {
         "name": "PPS_avg_ShortTerm",
         "rawType": "float64",
         "type": "float"
        },
        {
         "name": "3PAr_avg_ShortTerm",
         "rawType": "float64",
         "type": "float"
        },
        {
         "name": "wl_avg_LongTerm",
         "rawType": "float64",
         "type": "float"
        },
        {
         "name": "fga_avg_LongTerm",
         "rawType": "float64",
         "type": "float"
        },
        {
         "name": "fg_pct_avg_LongTerm",
         "rawType": "float64",
         "type": "float"
        },
        {
         "name": "fg3a_avg_LongTerm",
         "rawType": "float64",
         "type": "float"
        },
        {
         "name": "fg3_pct_avg_LongTerm",
         "rawType": "float64",
         "type": "float"
        },
        {
         "name": "fgm_avg_LongTerm",
         "rawType": "float64",
         "type": "float"
        },
        {
         "name": "fg3m_avg_LongTerm",
         "rawType": "float64",
         "type": "float"
        },
        {
         "name": "ftm_avg_LongTerm",
         "rawType": "float64",
         "type": "float"
        },
        {
         "name": "dreb_avg_LongTerm",
         "rawType": "float64",
         "type": "float"
        },
        {
         "name": "plus_minus_avg_LongTerm",
         "rawType": "float64",
         "type": "float"
        },
        {
         "name": "fta_avg_LongTerm",
         "rawType": "float64",
         "type": "float"
        },
        {
         "name": "ft_pct_avg_LongTerm",
         "rawType": "float64",
         "type": "float"
        },
        {
         "name": "oreb_avg_LongTerm",
         "rawType": "float64",
         "type": "float"
        },
        {
         "name": "reb_avg_LongTerm",
         "rawType": "float64",
         "type": "float"
        },
        {
         "name": "ast_avg_LongTerm",
         "rawType": "float64",
         "type": "float"
        },
        {
         "name": "stl_avg_LongTerm",
         "rawType": "float64",
         "type": "float"
        },
        {
         "name": "blk_avg_LongTerm",
         "rawType": "float64",
         "type": "float"
        },
        {
         "name": "tov_avg_LongTerm",
         "rawType": "float64",
         "type": "float"
        },
        {
         "name": "pf_avg_LongTerm",
         "rawType": "float64",
         "type": "float"
        },
        {
         "name": "pts_avg_LongTerm",
         "rawType": "float64",
         "type": "float"
        },
        {
         "name": "pts_lost_avg_LongTerm",
         "rawType": "float64",
         "type": "float"
        },
        {
         "name": "possessions_avg_LongTerm",
         "rawType": "float64",
         "type": "float"
        },
        {
         "name": "ORTG_avg_LongTerm",
         "rawType": "float64",
         "type": "float"
        },
        {
         "name": "DRTG_avg_LongTerm",
         "rawType": "float64",
         "type": "float"
        },
        {
         "name": "eFG%_avg_LongTerm",
         "rawType": "float64",
         "type": "float"
        },
        {
         "name": "TS%_avg_LongTerm",
         "rawType": "float64",
         "type": "float"
        },
        {
         "name": "AST%_avg_LongTerm",
         "rawType": "float64",
         "type": "float"
        },
        {
         "name": "PF%_avg_LongTerm",
         "rawType": "float64",
         "type": "float"
        },
        {
         "name": "TOV%_avg_LongTerm",
         "rawType": "float64",
         "type": "float"
        },
        {
         "name": "FTR_avg_LongTerm",
         "rawType": "float64",
         "type": "float"
        },
        {
         "name": "PPS_avg_LongTerm",
         "rawType": "float64",
         "type": "float"
        },
        {
         "name": "3PAr_avg_LongTerm",
         "rawType": "float64",
         "type": "float"
        },
        {
         "name": "season_id_opp",
         "rawType": "object",
         "type": "unknown"
        },
        {
         "name": "team_id_opp",
         "rawType": "int64",
         "type": "integer"
        },
        {
         "name": "team_abbreviation_opp",
         "rawType": "object",
         "type": "string"
        },
        {
         "name": "team_name_opp",
         "rawType": "object",
         "type": "string"
        },
        {
         "name": "game_id_opp",
         "rawType": "int64",
         "type": "integer"
        },
        {
         "name": "game_date_opp",
         "rawType": "datetime64[ns]",
         "type": "datetime"
        },
        {
         "name": "matchup_opp",
         "rawType": "object",
         "type": "string"
        },
        {
         "name": "wl_opp",
         "rawType": "int64",
         "type": "integer"
        },
        {
         "name": "win_loss_ratio_opp",
         "rawType": "float64",
         "type": "float"
        },
        {
         "name": "wl_avg_ShortTerm_opp",
         "rawType": "float64",
         "type": "float"
        },
        {
         "name": "fga_avg_ShortTerm_opp",
         "rawType": "float64",
         "type": "float"
        },
        {
         "name": "fg_pct_avg_ShortTerm_opp",
         "rawType": "float64",
         "type": "float"
        },
        {
         "name": "fg3a_avg_ShortTerm_opp",
         "rawType": "float64",
         "type": "float"
        },
        {
         "name": "fg3_pct_avg_ShortTerm_opp",
         "rawType": "float64",
         "type": "float"
        },
        {
         "name": "fgm_avg_ShortTerm_opp",
         "rawType": "float64",
         "type": "float"
        },
        {
         "name": "fg3m_avg_ShortTerm_opp",
         "rawType": "float64",
         "type": "float"
        },
        {
         "name": "ftm_avg_ShortTerm_opp",
         "rawType": "float64",
         "type": "float"
        },
        {
         "name": "dreb_avg_ShortTerm_opp",
         "rawType": "float64",
         "type": "float"
        },
        {
         "name": "plus_minus_avg_ShortTerm_opp",
         "rawType": "float64",
         "type": "float"
        },
        {
         "name": "fta_avg_ShortTerm_opp",
         "rawType": "float64",
         "type": "float"
        },
        {
         "name": "ft_pct_avg_ShortTerm_opp",
         "rawType": "float64",
         "type": "float"
        },
        {
         "name": "oreb_avg_ShortTerm_opp",
         "rawType": "float64",
         "type": "float"
        },
        {
         "name": "reb_avg_ShortTerm_opp",
         "rawType": "float64",
         "type": "float"
        },
        {
         "name": "ast_avg_ShortTerm_opp",
         "rawType": "float64",
         "type": "float"
        },
        {
         "name": "stl_avg_ShortTerm_opp",
         "rawType": "float64",
         "type": "float"
        },
        {
         "name": "blk_avg_ShortTerm_opp",
         "rawType": "float64",
         "type": "float"
        },
        {
         "name": "tov_avg_ShortTerm_opp",
         "rawType": "float64",
         "type": "float"
        },
        {
         "name": "pf_avg_ShortTerm_opp",
         "rawType": "float64",
         "type": "float"
        },
        {
         "name": "pts_avg_ShortTerm_opp",
         "rawType": "float64",
         "type": "float"
        },
        {
         "name": "pts_lost_avg_ShortTerm_opp",
         "rawType": "float64",
         "type": "float"
        },
        {
         "name": "possessions_avg_ShortTerm_opp",
         "rawType": "float64",
         "type": "float"
        },
        {
         "name": "ORTG_avg_ShortTerm_opp",
         "rawType": "float64",
         "type": "float"
        },
        {
         "name": "DRTG_avg_ShortTerm_opp",
         "rawType": "float64",
         "type": "float"
        },
        {
         "name": "eFG%_avg_ShortTerm_opp",
         "rawType": "float64",
         "type": "float"
        },
        {
         "name": "TS%_avg_ShortTerm_opp",
         "rawType": "float64",
         "type": "float"
        },
        {
         "name": "AST%_avg_ShortTerm_opp",
         "rawType": "float64",
         "type": "float"
        },
        {
         "name": "PF%_avg_ShortTerm_opp",
         "rawType": "float64",
         "type": "float"
        },
        {
         "name": "TOV%_avg_ShortTerm_opp",
         "rawType": "float64",
         "type": "float"
        },
        {
         "name": "FTR_avg_ShortTerm_opp",
         "rawType": "float64",
         "type": "float"
        },
        {
         "name": "PPS_avg_ShortTerm_opp",
         "rawType": "float64",
         "type": "float"
        },
        {
         "name": "3PAr_avg_ShortTerm_opp",
         "rawType": "float64",
         "type": "float"
        },
        {
         "name": "wl_avg_LongTerm_opp",
         "rawType": "float64",
         "type": "float"
        },
        {
         "name": "fga_avg_LongTerm_opp",
         "rawType": "float64",
         "type": "float"
        },
        {
         "name": "fg_pct_avg_LongTerm_opp",
         "rawType": "float64",
         "type": "float"
        },
        {
         "name": "fg3a_avg_LongTerm_opp",
         "rawType": "float64",
         "type": "float"
        },
        {
         "name": "fg3_pct_avg_LongTerm_opp",
         "rawType": "float64",
         "type": "float"
        },
        {
         "name": "fgm_avg_LongTerm_opp",
         "rawType": "float64",
         "type": "float"
        },
        {
         "name": "fg3m_avg_LongTerm_opp",
         "rawType": "float64",
         "type": "float"
        },
        {
         "name": "ftm_avg_LongTerm_opp",
         "rawType": "float64",
         "type": "float"
        },
        {
         "name": "dreb_avg_LongTerm_opp",
         "rawType": "float64",
         "type": "float"
        },
        {
         "name": "plus_minus_avg_LongTerm_opp",
         "rawType": "float64",
         "type": "float"
        },
        {
         "name": "fta_avg_LongTerm_opp",
         "rawType": "float64",
         "type": "float"
        },
        {
         "name": "ft_pct_avg_LongTerm_opp",
         "rawType": "float64",
         "type": "float"
        },
        {
         "name": "oreb_avg_LongTerm_opp",
         "rawType": "float64",
         "type": "float"
        },
        {
         "name": "reb_avg_LongTerm_opp",
         "rawType": "float64",
         "type": "float"
        },
        {
         "name": "ast_avg_LongTerm_opp",
         "rawType": "float64",
         "type": "float"
        },
        {
         "name": "stl_avg_LongTerm_opp",
         "rawType": "float64",
         "type": "float"
        },
        {
         "name": "blk_avg_LongTerm_opp",
         "rawType": "float64",
         "type": "float"
        },
        {
         "name": "tov_avg_LongTerm_opp",
         "rawType": "float64",
         "type": "float"
        },
        {
         "name": "pf_avg_LongTerm_opp",
         "rawType": "float64",
         "type": "float"
        },
        {
         "name": "pts_avg_LongTerm_opp",
         "rawType": "float64",
         "type": "float"
        },
        {
         "name": "pts_lost_avg_LongTerm_opp",
         "rawType": "float64",
         "type": "float"
        },
        {
         "name": "possessions_avg_LongTerm_opp",
         "rawType": "float64",
         "type": "float"
        },
        {
         "name": "ORTG_avg_LongTerm_opp",
         "rawType": "float64",
         "type": "float"
        },
        {
         "name": "DRTG_avg_LongTerm_opp",
         "rawType": "float64",
         "type": "float"
        },
        {
         "name": "eFG%_avg_LongTerm_opp",
         "rawType": "float64",
         "type": "float"
        },
        {
         "name": "TS%_avg_LongTerm_opp",
         "rawType": "float64",
         "type": "float"
        },
        {
         "name": "AST%_avg_LongTerm_opp",
         "rawType": "float64",
         "type": "float"
        },
        {
         "name": "PF%_avg_LongTerm_opp",
         "rawType": "float64",
         "type": "float"
        },
        {
         "name": "TOV%_avg_LongTerm_opp",
         "rawType": "float64",
         "type": "float"
        },
        {
         "name": "FTR_avg_LongTerm_opp",
         "rawType": "float64",
         "type": "float"
        },
        {
         "name": "PPS_avg_LongTerm_opp",
         "rawType": "float64",
         "type": "float"
        },
        {
         "name": "3PAr_avg_LongTerm_opp",
         "rawType": "float64",
         "type": "float"
        }
       ],
       "conversionMethod": "pd.DataFrame",
       "ref": "ce39bb58-ec16-4e17-9600-63be646c3bce",
       "rows": [
        [
         "0",
         "12005",
         "1610612764",
         "WAS",
         "Washington Wizards",
         "10500001",
         "2005-10-10 00:00:00",
         "WAS vs. CLE",
         "0",
         "1",
         null,
         null,
         null,
         null,
         null,
         null,
         null,
         null,
         null,
         null,
         null,
         null,
         null,
         null,
         null,
         null,
         null,
         null,
         null,
         null,
         null,
         null,
         null,
         null,
         null,
         null,
         null,
         null,
         null,
         null,
         null,
         null,
         null,
         null,
         null,
         null,
         null,
         null,
         null,
         null,
         null,
         null,
         null,
         null,
         null,
         null,
         null,
         null,
         null,
         null,
         null,
         null,
         null,
         null,
         null,
         null,
         null,
         null,
         null,
         null,
         null,
         null,
         null,
         null,
         null,
         "12005",
         "1610612739",
         "CLE",
         "Cleveland Cavaliers",
         "10500001",
         "2005-10-10 00:00:00",
         "CLE @ WAS",
         "1",
         null,
         null,
         null,
         null,
         null,
         null,
         null,
         null,
         null,
         null,
         null,
         null,
         null,
         null,
         null,
         null,
         null,
         null,
         null,
         null,
         null,
         null,
         null,
         null,
         null,
         null,
         null,
         null,
         null,
         null,
         null,
         null,
         null,
         null,
         null,
         null,
         null,
         null,
         null,
         null,
         null,
         null,
         null,
         null,
         null,
         null,
         null,
         null,
         null,
         null,
         null,
         null,
         null,
         null,
         null,
         null,
         null,
         null,
         null,
         null,
         null,
         null,
         null,
         null,
         null
        ],
        [
         "1",
         "12005",
         "1610612755",
         "PHI",
         "Philadelphia 76ers",
         "10500002",
         "2005-10-11 00:00:00",
         "PHI vs. HOU",
         "0",
         "1",
         null,
         null,
         null,
         null,
         null,
         null,
         null,
         null,
         null,
         null,
         null,
         null,
         null,
         null,
         null,
         null,
         null,
         null,
         null,
         null,
         null,
         null,
         null,
         null,
         null,
         null,
         null,
         null,
         null,
         null,
         null,
         null,
         null,
         null,
         null,
         null,
         null,
         null,
         null,
         null,
         null,
         null,
         null,
         null,
         null,
         null,
         null,
         null,
         null,
         null,
         null,
         null,
         null,
         null,
         null,
         null,
         null,
         null,
         null,
         null,
         null,
         null,
         null,
         null,
         null,
         "12005",
         "1610612745",
         "HOU",
         "Houston Rockets",
         "10500002",
         "2005-10-11 00:00:00",
         "HOU @ PHI",
         "1",
         null,
         null,
         null,
         null,
         null,
         null,
         null,
         null,
         null,
         null,
         null,
         null,
         null,
         null,
         null,
         null,
         null,
         null,
         null,
         null,
         null,
         null,
         null,
         null,
         null,
         null,
         null,
         null,
         null,
         null,
         null,
         null,
         null,
         null,
         null,
         null,
         null,
         null,
         null,
         null,
         null,
         null,
         null,
         null,
         null,
         null,
         null,
         null,
         null,
         null,
         null,
         null,
         null,
         null,
         null,
         null,
         null,
         null,
         null,
         null,
         null,
         null,
         null,
         null,
         null
        ],
        [
         "2",
         "12005",
         "1610612737",
         "ATL",
         "Atlanta Hawks",
         "10500003",
         "2005-10-11 00:00:00",
         "ATL vs. ORL",
         "0",
         "1",
         null,
         null,
         null,
         null,
         null,
         null,
         null,
         null,
         null,
         null,
         null,
         null,
         null,
         null,
         null,
         null,
         null,
         null,
         null,
         null,
         null,
         null,
         null,
         null,
         null,
         null,
         null,
         null,
         null,
         null,
         null,
         null,
         null,
         null,
         null,
         null,
         null,
         null,
         null,
         null,
         null,
         null,
         null,
         null,
         null,
         null,
         null,
         null,
         null,
         null,
         null,
         null,
         null,
         null,
         null,
         null,
         null,
         null,
         null,
         null,
         null,
         null,
         null,
         null,
         null,
         "12005",
         "1610612753",
         "ORL",
         "Orlando Magic",
         "10500003",
         "2005-10-11 00:00:00",
         "ORL @ ATL",
         "1",
         null,
         null,
         null,
         null,
         null,
         null,
         null,
         null,
         null,
         null,
         null,
         null,
         null,
         null,
         null,
         null,
         null,
         null,
         null,
         null,
         null,
         null,
         null,
         null,
         null,
         null,
         null,
         null,
         null,
         null,
         null,
         null,
         null,
         null,
         null,
         null,
         null,
         null,
         null,
         null,
         null,
         null,
         null,
         null,
         null,
         null,
         null,
         null,
         null,
         null,
         null,
         null,
         null,
         null,
         null,
         null,
         null,
         null,
         null,
         null,
         null,
         null,
         null,
         null,
         null
        ],
        [
         "3",
         "12005",
         "1610612765",
         "DET",
         "Detroit Pistons",
         "10500004",
         "2005-10-11 00:00:00",
         "DET vs. CHI",
         "1",
         "1",
         null,
         null,
         null,
         null,
         null,
         null,
         null,
         null,
         null,
         null,
         null,
         null,
         null,
         null,
         null,
         null,
         null,
         null,
         null,
         null,
         null,
         null,
         null,
         null,
         null,
         null,
         null,
         null,
         null,
         null,
         null,
         null,
         null,
         null,
         null,
         null,
         null,
         null,
         null,
         null,
         null,
         null,
         null,
         null,
         null,
         null,
         null,
         null,
         null,
         null,
         null,
         null,
         null,
         null,
         null,
         null,
         null,
         null,
         null,
         null,
         null,
         null,
         null,
         null,
         null,
         "12005",
         "1610612741",
         "CHI",
         "Chicago Bulls",
         "10500004",
         "2005-10-11 00:00:00",
         "CHI @ DET",
         "0",
         null,
         null,
         null,
         null,
         null,
         null,
         null,
         null,
         null,
         null,
         null,
         null,
         null,
         null,
         null,
         null,
         null,
         null,
         null,
         null,
         null,
         null,
         null,
         null,
         null,
         null,
         null,
         null,
         null,
         null,
         null,
         null,
         null,
         null,
         null,
         null,
         null,
         null,
         null,
         null,
         null,
         null,
         null,
         null,
         null,
         null,
         null,
         null,
         null,
         null,
         null,
         null,
         null,
         null,
         null,
         null,
         null,
         null,
         null,
         null,
         null,
         null,
         null,
         null,
         null
        ],
        [
         "4",
         "12005",
         "1610612758",
         "SAC",
         "Sacramento Kings",
         "10500005",
         "2005-10-11 00:00:00",
         "SAC vs. DAL",
         "0",
         "1",
         null,
         null,
         null,
         null,
         null,
         null,
         null,
         null,
         null,
         null,
         null,
         null,
         null,
         null,
         null,
         null,
         null,
         null,
         null,
         null,
         null,
         null,
         null,
         null,
         null,
         null,
         null,
         null,
         null,
         null,
         null,
         null,
         null,
         null,
         null,
         null,
         null,
         null,
         null,
         null,
         null,
         null,
         null,
         null,
         null,
         null,
         null,
         null,
         null,
         null,
         null,
         null,
         null,
         null,
         null,
         null,
         null,
         null,
         null,
         null,
         null,
         null,
         null,
         null,
         null,
         "12005",
         "1610612742",
         "DAL",
         "Dallas Mavericks",
         "10500005",
         "2005-10-11 00:00:00",
         "DAL @ SAC",
         "1",
         null,
         null,
         null,
         null,
         null,
         null,
         null,
         null,
         null,
         null,
         null,
         null,
         null,
         null,
         null,
         null,
         null,
         null,
         null,
         null,
         null,
         null,
         null,
         null,
         null,
         null,
         null,
         null,
         null,
         null,
         null,
         null,
         null,
         null,
         null,
         null,
         null,
         null,
         null,
         null,
         null,
         null,
         null,
         null,
         null,
         null,
         null,
         null,
         null,
         null,
         null,
         null,
         null,
         null,
         null,
         null,
         null,
         null,
         null,
         null,
         null,
         null,
         null,
         null,
         null
        ]
       ],
       "shape": {
        "columns": 147,
        "rows": 5
       }
      },
      "text/html": [
       "<div>\n",
       "<style scoped>\n",
       "    .dataframe tbody tr th:only-of-type {\n",
       "        vertical-align: middle;\n",
       "    }\n",
       "\n",
       "    .dataframe tbody tr th {\n",
       "        vertical-align: top;\n",
       "    }\n",
       "\n",
       "    .dataframe thead th {\n",
       "        text-align: right;\n",
       "    }\n",
       "</style>\n",
       "<table border=\"1\" class=\"dataframe\">\n",
       "  <thead>\n",
       "    <tr style=\"text-align: right;\">\n",
       "      <th></th>\n",
       "      <th>season_id</th>\n",
       "      <th>team_id</th>\n",
       "      <th>team_abbreviation</th>\n",
       "      <th>team_name</th>\n",
       "      <th>game_id</th>\n",
       "      <th>game_date</th>\n",
       "      <th>matchup</th>\n",
       "      <th>wl</th>\n",
       "      <th>is_home</th>\n",
       "      <th>win_loss_ratio</th>\n",
       "      <th>...</th>\n",
       "      <th>ORTG_avg_LongTerm_opp</th>\n",
       "      <th>DRTG_avg_LongTerm_opp</th>\n",
       "      <th>eFG%_avg_LongTerm_opp</th>\n",
       "      <th>TS%_avg_LongTerm_opp</th>\n",
       "      <th>AST%_avg_LongTerm_opp</th>\n",
       "      <th>PF%_avg_LongTerm_opp</th>\n",
       "      <th>TOV%_avg_LongTerm_opp</th>\n",
       "      <th>FTR_avg_LongTerm_opp</th>\n",
       "      <th>PPS_avg_LongTerm_opp</th>\n",
       "      <th>3PAr_avg_LongTerm_opp</th>\n",
       "    </tr>\n",
       "  </thead>\n",
       "  <tbody>\n",
       "    <tr>\n",
       "      <th>0</th>\n",
       "      <td>12005</td>\n",
       "      <td>1610612764</td>\n",
       "      <td>WAS</td>\n",
       "      <td>Washington Wizards</td>\n",
       "      <td>10500001</td>\n",
       "      <td>2005-10-10</td>\n",
       "      <td>WAS vs. CLE</td>\n",
       "      <td>0</td>\n",
       "      <td>1</td>\n",
       "      <td>NaN</td>\n",
       "      <td>...</td>\n",
       "      <td>NaN</td>\n",
       "      <td>NaN</td>\n",
       "      <td>NaN</td>\n",
       "      <td>NaN</td>\n",
       "      <td>NaN</td>\n",
       "      <td>NaN</td>\n",
       "      <td>NaN</td>\n",
       "      <td>NaN</td>\n",
       "      <td>NaN</td>\n",
       "      <td>NaN</td>\n",
       "    </tr>\n",
       "    <tr>\n",
       "      <th>1</th>\n",
       "      <td>12005</td>\n",
       "      <td>1610612755</td>\n",
       "      <td>PHI</td>\n",
       "      <td>Philadelphia 76ers</td>\n",
       "      <td>10500002</td>\n",
       "      <td>2005-10-11</td>\n",
       "      <td>PHI vs. HOU</td>\n",
       "      <td>0</td>\n",
       "      <td>1</td>\n",
       "      <td>NaN</td>\n",
       "      <td>...</td>\n",
       "      <td>NaN</td>\n",
       "      <td>NaN</td>\n",
       "      <td>NaN</td>\n",
       "      <td>NaN</td>\n",
       "      <td>NaN</td>\n",
       "      <td>NaN</td>\n",
       "      <td>NaN</td>\n",
       "      <td>NaN</td>\n",
       "      <td>NaN</td>\n",
       "      <td>NaN</td>\n",
       "    </tr>\n",
       "    <tr>\n",
       "      <th>2</th>\n",
       "      <td>12005</td>\n",
       "      <td>1610612737</td>\n",
       "      <td>ATL</td>\n",
       "      <td>Atlanta Hawks</td>\n",
       "      <td>10500003</td>\n",
       "      <td>2005-10-11</td>\n",
       "      <td>ATL vs. ORL</td>\n",
       "      <td>0</td>\n",
       "      <td>1</td>\n",
       "      <td>NaN</td>\n",
       "      <td>...</td>\n",
       "      <td>NaN</td>\n",
       "      <td>NaN</td>\n",
       "      <td>NaN</td>\n",
       "      <td>NaN</td>\n",
       "      <td>NaN</td>\n",
       "      <td>NaN</td>\n",
       "      <td>NaN</td>\n",
       "      <td>NaN</td>\n",
       "      <td>NaN</td>\n",
       "      <td>NaN</td>\n",
       "    </tr>\n",
       "    <tr>\n",
       "      <th>3</th>\n",
       "      <td>12005</td>\n",
       "      <td>1610612765</td>\n",
       "      <td>DET</td>\n",
       "      <td>Detroit Pistons</td>\n",
       "      <td>10500004</td>\n",
       "      <td>2005-10-11</td>\n",
       "      <td>DET vs. CHI</td>\n",
       "      <td>1</td>\n",
       "      <td>1</td>\n",
       "      <td>NaN</td>\n",
       "      <td>...</td>\n",
       "      <td>NaN</td>\n",
       "      <td>NaN</td>\n",
       "      <td>NaN</td>\n",
       "      <td>NaN</td>\n",
       "      <td>NaN</td>\n",
       "      <td>NaN</td>\n",
       "      <td>NaN</td>\n",
       "      <td>NaN</td>\n",
       "      <td>NaN</td>\n",
       "      <td>NaN</td>\n",
       "    </tr>\n",
       "    <tr>\n",
       "      <th>4</th>\n",
       "      <td>12005</td>\n",
       "      <td>1610612758</td>\n",
       "      <td>SAC</td>\n",
       "      <td>Sacramento Kings</td>\n",
       "      <td>10500005</td>\n",
       "      <td>2005-10-11</td>\n",
       "      <td>SAC vs. DAL</td>\n",
       "      <td>0</td>\n",
       "      <td>1</td>\n",
       "      <td>NaN</td>\n",
       "      <td>...</td>\n",
       "      <td>NaN</td>\n",
       "      <td>NaN</td>\n",
       "      <td>NaN</td>\n",
       "      <td>NaN</td>\n",
       "      <td>NaN</td>\n",
       "      <td>NaN</td>\n",
       "      <td>NaN</td>\n",
       "      <td>NaN</td>\n",
       "      <td>NaN</td>\n",
       "      <td>NaN</td>\n",
       "    </tr>\n",
       "  </tbody>\n",
       "</table>\n",
       "<p>5 rows × 147 columns</p>\n",
       "</div>"
      ],
      "text/plain": [
       "  season_id     team_id team_abbreviation           team_name   game_id  \\\n",
       "0     12005  1610612764               WAS  Washington Wizards  10500001   \n",
       "1     12005  1610612755               PHI  Philadelphia 76ers  10500002   \n",
       "2     12005  1610612737               ATL       Atlanta Hawks  10500003   \n",
       "3     12005  1610612765               DET     Detroit Pistons  10500004   \n",
       "4     12005  1610612758               SAC    Sacramento Kings  10500005   \n",
       "\n",
       "   game_date      matchup  wl  is_home  win_loss_ratio  ...  \\\n",
       "0 2005-10-10  WAS vs. CLE   0        1             NaN  ...   \n",
       "1 2005-10-11  PHI vs. HOU   0        1             NaN  ...   \n",
       "2 2005-10-11  ATL vs. ORL   0        1             NaN  ...   \n",
       "3 2005-10-11  DET vs. CHI   1        1             NaN  ...   \n",
       "4 2005-10-11  SAC vs. DAL   0        1             NaN  ...   \n",
       "\n",
       "   ORTG_avg_LongTerm_opp  DRTG_avg_LongTerm_opp  eFG%_avg_LongTerm_opp  \\\n",
       "0                    NaN                    NaN                    NaN   \n",
       "1                    NaN                    NaN                    NaN   \n",
       "2                    NaN                    NaN                    NaN   \n",
       "3                    NaN                    NaN                    NaN   \n",
       "4                    NaN                    NaN                    NaN   \n",
       "\n",
       "   TS%_avg_LongTerm_opp  AST%_avg_LongTerm_opp  PF%_avg_LongTerm_opp  \\\n",
       "0                   NaN                    NaN                   NaN   \n",
       "1                   NaN                    NaN                   NaN   \n",
       "2                   NaN                    NaN                   NaN   \n",
       "3                   NaN                    NaN                   NaN   \n",
       "4                   NaN                    NaN                   NaN   \n",
       "\n",
       "   TOV%_avg_LongTerm_opp  FTR_avg_LongTerm_opp  PPS_avg_LongTerm_opp  \\\n",
       "0                    NaN                   NaN                   NaN   \n",
       "1                    NaN                   NaN                   NaN   \n",
       "2                    NaN                   NaN                   NaN   \n",
       "3                    NaN                   NaN                   NaN   \n",
       "4                    NaN                   NaN                   NaN   \n",
       "\n",
       "   3PAr_avg_LongTerm_opp  \n",
       "0                    NaN  \n",
       "1                    NaN  \n",
       "2                    NaN  \n",
       "3                    NaN  \n",
       "4                    NaN  \n",
       "\n",
       "[5 rows x 147 columns]"
      ]
     },
     "execution_count": 16,
     "metadata": {},
     "output_type": "execute_result"
    }
   ],
   "source": [
    "def rename_columns_away_home(df):\n",
    "    new_columns = {}\n",
    "    for col in df.columns:\n",
    "        if col.endswith('_away'):\n",
    "            new_columns[col] = col.replace('_away', '')\n",
    "        elif col.endswith('_home'):\n",
    "            new_columns[col] = col.replace('_home', '_opp')\n",
    "    return df.rename(columns=new_columns)\n",
    "away_home = rename_columns_away_home(away_home)\n",
    "away_home = away_home.rename(columns={'is_home_opp':'is_home'})\n",
    "away_home = away_home.drop(columns=['is_opp_opp'])\n",
    "home_away.head(5)"
   ]
  },
  {
   "cell_type": "markdown",
   "metadata": {},
   "source": [
    "Displaying the differences in column names between home_away and away_home DataFrames."
   ]
  },
  {
   "cell_type": "code",
   "execution_count": 17,
   "metadata": {},
   "outputs": [
    {
     "name": "stdout",
     "output_type": "stream",
     "text": [
      "set()\n",
      "set()\n"
     ]
    }
   ],
   "source": [
    "print(f\"{set(list(home_away.columns)) - set(away_home.columns)}\")\n",
    "print(f\"{set(list(away_home.columns)) - set(home_away.columns)}\")"
   ]
  },
  {
   "cell_type": "markdown",
   "metadata": {},
   "source": [
    "Calculating Elo ratings for teams based on game outcomes, updating ratings after each game using expected probabilities and a k-factor to reflect performance changes."
   ]
  },
  {
   "cell_type": "code",
   "execution_count": 18,
   "metadata": {},
   "outputs": [],
   "source": [
    "def elo_calc(df, initial_elo=1500, k_factor=40): \n",
    "    df = df.sort_values(by='game_date').reset_index(drop=True)\n",
    "    elo_ratings = {}\n",
    "    home_elos, away_elos = [], []\n",
    "\n",
    "    for _, row in df.iterrows():\n",
    "        team = row['team_name']\n",
    "        team_opp = row['team_name_opp']\n",
    "\n",
    "        home_elo = elo_ratings.get(team, initial_elo)\n",
    "        away_elo = elo_ratings.get(team_opp, initial_elo)\n",
    "\n",
    "        home_elos.append(home_elo)\n",
    "        away_elos.append(away_elo)\n",
    "\n",
    "        outcome = row['wl']\n",
    "        expected = 1 / (1 + 10 ** ((away_elo - home_elo) / 400))\n",
    "        expected_opp = 1 - expected\n",
    "\n",
    "        elo_ratings[team] = home_elo + k_factor * (outcome - expected)\n",
    "        elo_ratings[team_opp] = away_elo + k_factor * ((1 - outcome) - expected_opp)\n",
    "\n",
    "    df['elo'] = home_elos\n",
    "    df['elo_opp'] = away_elos\n",
    "    df['elo_diff'] = df['elo'] - df['elo_opp']\n",
    "\n",
    "    return df"
   ]
  },
  {
   "cell_type": "markdown",
   "metadata": {},
   "source": [
    "Applying Elo calculations to home and away DataFrames, ensuring consistent Elo ratings across perspectives by transferring opponent Elo scores and computing Elo differences."
   ]
  },
  {
   "cell_type": "code",
   "execution_count": 19,
   "metadata": {},
   "outputs": [],
   "source": [
    "def add_elo_ranking(df1, df2):\n",
    "    df1 = elo_calc(df1)\n",
    "    df1 = df1.sort_values(by=['game_date','game_id']).reset_index(drop=True)\n",
    "    df2 = df2.sort_values(by=['game_date','game_id']).reset_index(drop=True)\n",
    "    df2['elo'] = df1['elo_opp']\n",
    "    df2['elo_opp'] = df1['elo']\n",
    "    df2['elo_diff'] = -df1['elo_diff']\n",
    "    return df1, df2\n",
    "\n",
    "home_away, away_home = add_elo_ranking(home_away,away_home)"
   ]
  },
  {
   "cell_type": "markdown",
   "metadata": {},
   "source": [
    "Removing unnecessary columns"
   ]
  },
  {
   "cell_type": "code",
   "execution_count": 20,
   "metadata": {},
   "outputs": [],
   "source": [
    "\n",
    "home_away = home_away.drop(columns = ['game_id_opp', 'game_date_opp', 'wl_opp'])\n",
    "away_home = away_home.drop(columns=['game_id_opp', 'game_date_opp','wl_opp'])"
   ]
  },
  {
   "cell_type": "markdown",
   "metadata": {},
   "source": [
    "Merging the two DataFrames into a final DataFrame"
   ]
  },
  {
   "cell_type": "code",
   "execution_count": 21,
   "metadata": {},
   "outputs": [],
   "source": [
    "df_final = pd.concat([home_away,away_home])"
   ]
  },
  {
   "cell_type": "markdown",
   "metadata": {},
   "source": [
    "Calculating differences between team and opponent statistics for specified prefixes and time horizons, adding new columns for each difference."
   ]
  },
  {
   "cell_type": "code",
   "execution_count": 22,
   "metadata": {},
   "outputs": [],
   "source": [
    "def calculate_stat_differences(df):\n",
    "    df = df.sort_values(by=['game_date'])\n",
    "    stats_prefixes = [\n",
    "        'wl_avg', 'plus_minus_avg', 'fg_pct_avg',\n",
    "        'fg3m_avg', 'fg3a_avg', 'fg3_pct_avg', 'fta_avg', 'ft_pct_avg','reb_avg', 'ast_avg',\n",
    "        'tov_avg', 'pf_avg', 'pts_avg','PTS_sum', 'pts_lost_avg', 'possessions', 'ORTG', 'DRTG', 'eFG%', 'TS%', 'AST%', 'PF%',\n",
    "       'TOV%', 'FTR', 'PPS', '3PAr'\n",
    "    ]\n",
    "    time_horizons = ['ShortTerm', 'LongTerm']\n",
    "    \n",
    "    for prefix in stats_prefixes:\n",
    "        for horizon in time_horizons:\n",
    "            home_col = f\"{prefix}_{horizon}\"\n",
    "            opp_col = f\"{prefix}_{horizon}_opp\"\n",
    "            \n",
    "            if home_col in df.columns and opp_col in df.columns:\n",
    "                diff_col_name = f\"{prefix}_{horizon}_diff\"\n",
    "                df[diff_col_name] = df[home_col] - df[opp_col]\n",
    "    \n",
    "    for horizon in time_horizons:\n",
    "        pts_col = f\"pts_avg_{horizon}\"\n",
    "        pts_lost_col = f\"pts_lost_avg_{horizon}\"\n",
    "        pts_diff_col = f\"pts_diff_{horizon}\"\n",
    "\n",
    "        if pts_col in df.columns and pts_lost_col in df.columns:\n",
    "            df[pts_diff_col] = df[pts_col] - df[pts_lost_col]\n",
    "    \n",
    "    return df\n",
    "\n",
    "df_final = calculate_stat_differences(df_final)"
   ]
  },
  {
   "cell_type": "markdown",
   "metadata": {},
   "source": [
    "Filtering games after 1990-09-01 - NBA has changed over the years, removing duplicate game entries, sorting by game date, and removing rows with missing values."
   ]
  },
  {
   "cell_type": "code",
   "execution_count": 23,
   "metadata": {},
   "outputs": [],
   "source": [
    "df_final = df_final[df_final['game_date']>'1990-09-01']\n",
    "df_final = df_final.sort_values(by=['is_home'], ascending=False).reset_index(drop=True)\n",
    "df_final = df_final.drop_duplicates(subset=['game_id'], keep='first')\n",
    "df_final = df_final.sort_values(by = ['game_date']).reset_index(drop=True)\n",
    "df_final = df_final.dropna()"
   ]
  },
  {
   "cell_type": "markdown",
   "metadata": {},
   "source": [
    "Selection of features and target variable."
   ]
  },
  {
   "cell_type": "code",
   "execution_count": 24,
   "metadata": {},
   "outputs": [],
   "source": [
    "X = df_final.drop(columns=['season_id', 'team_id', 'team_abbreviation', 'team_name', 'game_id', 'game_date', 'matchup',\n",
    "                            'wl','season_id_opp', 'team_id_opp', 'team_abbreviation_opp', 'team_name_opp', 'matchup_opp', 'is_home'])\n",
    "\n",
    "y = df_final['wl']"
   ]
  },
  {
   "cell_type": "markdown",
   "metadata": {},
   "source": [
    "Scaling the features to a range of 0 to 1"
   ]
  },
  {
   "cell_type": "code",
   "execution_count": 25,
   "metadata": {},
   "outputs": [],
   "source": [
    "scaler = MinMaxScaler(feature_range=(0,1))\n",
    "\n",
    "X_scaled = scaler.fit_transform(X)\n",
    "\n",
    "joblib.dump(scaler, 'scaler.pkl')\n",
    "\n",
    "with open('features.json', 'w') as f:\n",
    "    json.dump(X.columns.tolist(), f)"
   ]
  },
  {
   "cell_type": "markdown",
   "metadata": {},
   "source": [
    "Removing redundant features using PCA"
   ]
  },
  {
   "cell_type": "code",
   "execution_count": 26,
   "metadata": {},
   "outputs": [
    {
     "data": {
      "image/png": "[encoded data removed]",
      "text/plain": [
       "<Figure size 1000x600 with 1 Axes>"
      ]
     },
     "metadata": {},
     "output_type": "display_data"
    },
    {
     "name": "stdout",
     "output_type": "stream",
     "text": [
      "Number of components that explain 95% of the variance: 31\n"
     ]
    }
   ],
   "source": [
    "pca = PCA()\n",
    "X_pca = pca.fit_transform(X_scaled)\n",
    "\n",
    "plt.figure(figsize=(10, 6))\n",
    "plt.plot(range(1, len(pca.explained_variance_ratio_) + 1), np.cumsum(pca.explained_variance_ratio_))\n",
    "plt.xlabel('Number of Components')\n",
    "plt.ylabel('Cumulative Explained Variance')\n",
    "plt.title('Explained Variance by PCA Components')\n",
    "plt.grid(True)\n",
    "plt.show()\n",
    "\n",
    "pca_95 = PCA(n_components=0.95)\n",
    "X_reduced = pca_95.fit_transform(X_scaled)\n",
    "joblib.dump(pca_95, 'pca.pkl')\n",
    "\n",
    "print(f\"Number of components that explain 95% of the variance: {X_reduced.shape[1]}\")\n",
    "\n"
   ]
  },
  {
   "cell_type": "markdown",
   "metadata": {},
   "source": [
    "## XGBClassifier"
   ]
  },
  {
   "cell_type": "markdown",
   "metadata": {},
   "source": [
    "Splitting the data into training, validation, and test sets"
   ]
  },
  {
   "cell_type": "code",
   "execution_count": 27,
   "metadata": {},
   "outputs": [],
   "source": [
    "X_train, X_test, y_train, y_test = train_test_split(X_reduced, y, test_size=0.15, random_state=100, stratify=y)\n",
    "X_train, X_val, y_train, y_val = train_test_split(X_train, y_train, test_size=0.15, random_state=100, stratify=y_train)"
   ]
  },
  {
   "cell_type": "markdown",
   "metadata": {},
   "source": [
    "Initializing an XGBoost classifier with tuned hyperparameters to predict game outcomes. The model uses 500 decision trees (n_estimators) for robust fitting, a low learning rate of 0.01 for stable convergence, and a maximum tree depth of 5 to prevent overfitting. Subsampling (80% of data) and feature sampling (70% of features) enhance generalization, while L1 (reg_alpha=0.1) and L2 (reg_lambda=10) regularization reduce model complexity. A gamma value of 1 encourages slightly deeper splits, and the logloss evaluation metric ensures optimization for probabilistic predictions. The random state is set to 100 for reproducibility."
   ]
  },
  {
   "cell_type": "code",
   "execution_count": 28,
   "metadata": {},
   "outputs": [],
   "source": [
    "model_xgb = XGBClassifier(\n",
    "    n_estimators=500,\n",
    "    learning_rate=0.01,\n",
    "    max_depth=5,\n",
    "    subsample=0.8,\n",
    "    colsample_bytree=0.7,\n",
    "    gamma=1,\n",
    "    reg_alpha=0.1,\n",
    "    reg_lambda=10,\n",
    "    random_state=100,\n",
    "    use_label_encoder=False,\n",
    "    eval_metric=\"logloss\"\n",
    ")\n"
   ]
  },
  {
   "cell_type": "code",
   "execution_count": 29,
   "metadata": {},
   "outputs": [],
   "source": [
    "set_config(display=\"text\")\n",
    "\n",
    "model_xgb.fit(X_train,y_train)\n",
    "y_pred_prob_xgb = model_xgb.predict_proba(X_test)[:,1]\n"
   ]
  },
  {
   "cell_type": "markdown",
   "metadata": {},
   "source": [
    "Defining a function to evaluate a binary classification model by computing multiple performance metrics, including Log Loss, Brier Score, Accuracy, F1 Score, Recall, Precision, ROC AUC, and Confusion Matrix. The function converts predicted probabilities to binary predictions using a specified threshold (default 0.5), calculates each metric, and prints the results formatted to four decimal places for numerical metrics and as a matrix for the confusion matrix. The metrics are returned as a dictionary for further use."
   ]
  },
  {
   "cell_type": "code",
   "execution_count": 36,
   "metadata": {},
   "outputs": [],
   "source": [
    "def evaluate_model(y_true, y_pred_prob, threshold=0.5):\n",
    "    y_pred = (y_pred_prob > threshold).astype(int)\n",
    "    metrics = {\n",
    "        \"Log Loss\": log_loss(y_true, y_pred_prob),\n",
    "        \"Brier Score\": brier_score_loss(y_true, y_pred_prob),\n",
    "        \"Accuracy\": accuracy_score(y_true, y_pred),\n",
    "        \"F1 Score\": f1_score(y_true, y_pred),\n",
    "        \"Recall\": recall_score(y_true, y_pred),\n",
    "        \"Precision\": precision_score(y_true, y_pred),\n",
    "        \"ROC AUC\": roc_auc_score(y_true, y_pred_prob),\n",
    "        \"Confusion Matrix\": confusion_matrix(y_true, y_pred)\n",
    "    }\n",
    "    \n",
    "    for key, value in metrics.items():\n",
    "        if key == \"Confusion Matrix\":\n",
    "            plt.figure(figsize=(8, 6))\n",
    "            sns.heatmap(value, annot=True, fmt=\"d\", cmap=\"coolwarm\", cbar=False, \n",
    "                        xticklabels=[\"Predicted Negative\", \"Predicted Positive\"],\n",
    "                        yticklabels=[\"Actual Negative\", \"Actual Positive\"])\n",
    "            plt.title(\"Confusion Matrix\")\n",
    "            plt.ylabel(\"Actual\")\n",
    "            plt.xlabel(\"Predicted\")\n",
    "            plt.show()\n",
    "        else:\n",
    "            print(f\"{key}: {value:.4f}\")    \n",
    "    return metrics"
   ]
  },
  {
   "cell_type": "markdown",
   "metadata": {},
   "source": [
    "XGBoost model evaluating"
   ]
  },
  {
   "cell_type": "code",
   "execution_count": 37,
   "metadata": {},
   "outputs": [
    {
     "name": "stdout",
     "output_type": "stream",
     "text": [
      "Log Loss: 0.6076\n",
      "Brier Score: 0.2099\n",
      "Accuracy: 0.6731\n",
      "F1 Score: 0.7499\n",
      "Recall: 0.8244\n",
      "Precision: 0.6877\n",
      "ROC AUC: 0.7093\n"
     ]
    },
    {
     "data": {
      "image/png": "[encoded data removed]",
      "text/plain": [
       "<Figure size 800x600 with 1 Axes>"
      ]
     },
     "metadata": {},
     "output_type": "display_data"
    }
   ],
   "source": [
    "m = evaluate_model(y_test, y_pred_prob_xgb)"
   ]
  },
  {
   "cell_type": "markdown",
   "metadata": {},
   "source": [
    "The XGBoost model achieves a Log Loss of 0.6076, indicating reasonable probability calibration, and a Brier Score of 0.2099, suggesting moderate accuracy in predicted probabilities. With an Accuracy of 67.31%, it correctly classifies over two-thirds of instances. The F1 Score (0.7499) reflects a strong balance between Precision (68.77%) and Recall (82.44%), with high Recall indicating the model excels at identifying positive cases, though Precision is slightly lower, suggesting some false positives. The ROC AUC of 0.7093 indicates decent discriminative ability. The Confusion Matrix shows 1132 true negatives, 3028 true positives, 1375 false positives, and 645 false negatives, highlighting a tendency toward false positives but strong positive class detection."
   ]
  },
  {
   "cell_type": "markdown",
   "metadata": {},
   "source": [
    "## Keras Neural Network"
   ]
  },
  {
   "cell_type": "markdown",
   "metadata": {},
   "source": [
    "Defining a Keras Sequential neural network. The model begins with an InputLayer matching the feature dimension of X_train. It consists of three hidden layers: two with 64 neurons and one with 8 neurons, all using Leaky ReLU activation to handle non-linearity. Each hidden layer is followed by Dropout (0.2) to reduce overfitting and BatchNormalization to stabilize and accelerate training by normalizing activations. The output layer has a single neuron with sigmoid activation for binary predictions. The model is compiled with the Adam optimizer, binary cross-entropy loss, and tracks accuracy."
   ]
  },
  {
   "cell_type": "code",
   "execution_count": 32,
   "metadata": {},
   "outputs": [
    {
     "data": {
      "text/html": [
       "<pre style=\"white-space:pre;overflow-x:auto;line-height:normal;font-family:Menlo,'DejaVu Sans Mono',consolas,'Courier New',monospace\"><span style=\"font-weight: bold\">Model: \"sequential\"</span>\n",
       "</pre>\n"
      ],
      "text/plain": [
       "\u001b[1mModel: \"sequential\"\u001b[0m\n"
      ]
     },
     "metadata": {},
     "output_type": "display_data"
    },
    {
     "data": {
      "text/html": [
       "<pre style=\"white-space:pre;overflow-x:auto;line-height:normal;font-family:Menlo,'DejaVu Sans Mono',consolas,'Courier New',monospace\">┏━━━━━━━━━━━━━━━━━━━━━━━━━━━━━━━━━┳━━━━━━━━━━━━━━━━━━━━━━━━┳━━━━━━━━━━━━━━━┓\n",
       "┃<span style=\"font-weight: bold\"> Layer (type)                    </span>┃<span style=\"font-weight: bold\"> Output Shape           </span>┃<span style=\"font-weight: bold\">       Param # </span>┃\n",
       "┡━━━━━━━━━━━━━━━━━━━━━━━━━━━━━━━━━╇━━━━━━━━━━━━━━━━━━━━━━━━╇━━━━━━━━━━━━━━━┩\n",
       "│ dense (<span style=\"color: #0087ff; text-decoration-color: #0087ff\">Dense</span>)                   │ (<span style=\"color: #00d7ff; text-decoration-color: #00d7ff\">None</span>, <span style=\"color: #00af00; text-decoration-color: #00af00\">64</span>)             │         <span style=\"color: #00af00; text-decoration-color: #00af00\">2,048</span> │\n",
       "├─────────────────────────────────┼────────────────────────┼───────────────┤\n",
       "│ dropout (<span style=\"color: #0087ff; text-decoration-color: #0087ff\">Dropout</span>)               │ (<span style=\"color: #00d7ff; text-decoration-color: #00d7ff\">None</span>, <span style=\"color: #00af00; text-decoration-color: #00af00\">64</span>)             │             <span style=\"color: #00af00; text-decoration-color: #00af00\">0</span> │\n",
       "├─────────────────────────────────┼────────────────────────┼───────────────┤\n",
       "│ batch_normalization             │ (<span style=\"color: #00d7ff; text-decoration-color: #00d7ff\">None</span>, <span style=\"color: #00af00; text-decoration-color: #00af00\">64</span>)             │           <span style=\"color: #00af00; text-decoration-color: #00af00\">256</span> │\n",
       "│ (<span style=\"color: #0087ff; text-decoration-color: #0087ff\">BatchNormalization</span>)            │                        │               │\n",
       "├─────────────────────────────────┼────────────────────────┼───────────────┤\n",
       "│ dense_1 (<span style=\"color: #0087ff; text-decoration-color: #0087ff\">Dense</span>)                 │ (<span style=\"color: #00d7ff; text-decoration-color: #00d7ff\">None</span>, <span style=\"color: #00af00; text-decoration-color: #00af00\">64</span>)             │         <span style=\"color: #00af00; text-decoration-color: #00af00\">4,160</span> │\n",
       "├─────────────────────────────────┼────────────────────────┼───────────────┤\n",
       "│ dropout_1 (<span style=\"color: #0087ff; text-decoration-color: #0087ff\">Dropout</span>)             │ (<span style=\"color: #00d7ff; text-decoration-color: #00d7ff\">None</span>, <span style=\"color: #00af00; text-decoration-color: #00af00\">64</span>)             │             <span style=\"color: #00af00; text-decoration-color: #00af00\">0</span> │\n",
       "├─────────────────────────────────┼────────────────────────┼───────────────┤\n",
       "│ batch_normalization_1           │ (<span style=\"color: #00d7ff; text-decoration-color: #00d7ff\">None</span>, <span style=\"color: #00af00; text-decoration-color: #00af00\">64</span>)             │           <span style=\"color: #00af00; text-decoration-color: #00af00\">256</span> │\n",
       "│ (<span style=\"color: #0087ff; text-decoration-color: #0087ff\">BatchNormalization</span>)            │                        │               │\n",
       "├─────────────────────────────────┼────────────────────────┼───────────────┤\n",
       "│ dense_2 (<span style=\"color: #0087ff; text-decoration-color: #0087ff\">Dense</span>)                 │ (<span style=\"color: #00d7ff; text-decoration-color: #00d7ff\">None</span>, <span style=\"color: #00af00; text-decoration-color: #00af00\">8</span>)              │           <span style=\"color: #00af00; text-decoration-color: #00af00\">520</span> │\n",
       "├─────────────────────────────────┼────────────────────────┼───────────────┤\n",
       "│ dropout_2 (<span style=\"color: #0087ff; text-decoration-color: #0087ff\">Dropout</span>)             │ (<span style=\"color: #00d7ff; text-decoration-color: #00d7ff\">None</span>, <span style=\"color: #00af00; text-decoration-color: #00af00\">8</span>)              │             <span style=\"color: #00af00; text-decoration-color: #00af00\">0</span> │\n",
       "├─────────────────────────────────┼────────────────────────┼───────────────┤\n",
       "│ dense_3 (<span style=\"color: #0087ff; text-decoration-color: #0087ff\">Dense</span>)                 │ (<span style=\"color: #00d7ff; text-decoration-color: #00d7ff\">None</span>, <span style=\"color: #00af00; text-decoration-color: #00af00\">1</span>)              │             <span style=\"color: #00af00; text-decoration-color: #00af00\">9</span> │\n",
       "└─────────────────────────────────┴────────────────────────┴───────────────┘\n",
       "</pre>\n"
      ],
      "text/plain": [
       "┏━━━━━━━━━━━━━━━━━━━━━━━━━━━━━━━━━┳━━━━━━━━━━━━━━━━━━━━━━━━┳━━━━━━━━━━━━━━━┓\n",
       "┃\u001b[1m \u001b[0m\u001b[1mLayer (type)                   \u001b[0m\u001b[1m \u001b[0m┃\u001b[1m \u001b[0m\u001b[1mOutput Shape          \u001b[0m\u001b[1m \u001b[0m┃\u001b[1m \u001b[0m\u001b[1m      Param #\u001b[0m\u001b[1m \u001b[0m┃\n",
       "┡━━━━━━━━━━━━━━━━━━━━━━━━━━━━━━━━━╇━━━━━━━━━━━━━━━━━━━━━━━━╇━━━━━━━━━━━━━━━┩\n",
       "│ dense (\u001b[38;5;33mDense\u001b[0m)                   │ (\u001b[38;5;45mNone\u001b[0m, \u001b[38;5;34m64\u001b[0m)             │         \u001b[38;5;34m2,048\u001b[0m │\n",
       "├─────────────────────────────────┼────────────────────────┼───────────────┤\n",
       "│ dropout (\u001b[38;5;33mDropout\u001b[0m)               │ (\u001b[38;5;45mNone\u001b[0m, \u001b[38;5;34m64\u001b[0m)             │             \u001b[38;5;34m0\u001b[0m │\n",
       "├─────────────────────────────────┼────────────────────────┼───────────────┤\n",
       "│ batch_normalization             │ (\u001b[38;5;45mNone\u001b[0m, \u001b[38;5;34m64\u001b[0m)             │           \u001b[38;5;34m256\u001b[0m │\n",
       "│ (\u001b[38;5;33mBatchNormalization\u001b[0m)            │                        │               │\n",
       "├─────────────────────────────────┼────────────────────────┼───────────────┤\n",
       "│ dense_1 (\u001b[38;5;33mDense\u001b[0m)                 │ (\u001b[38;5;45mNone\u001b[0m, \u001b[38;5;34m64\u001b[0m)             │         \u001b[38;5;34m4,160\u001b[0m │\n",
       "├─────────────────────────────────┼────────────────────────┼───────────────┤\n",
       "│ dropout_1 (\u001b[38;5;33mDropout\u001b[0m)             │ (\u001b[38;5;45mNone\u001b[0m, \u001b[38;5;34m64\u001b[0m)             │             \u001b[38;5;34m0\u001b[0m │\n",
       "├─────────────────────────────────┼────────────────────────┼───────────────┤\n",
       "│ batch_normalization_1           │ (\u001b[38;5;45mNone\u001b[0m, \u001b[38;5;34m64\u001b[0m)             │           \u001b[38;5;34m256\u001b[0m │\n",
       "│ (\u001b[38;5;33mBatchNormalization\u001b[0m)            │                        │               │\n",
       "├─────────────────────────────────┼────────────────────────┼───────────────┤\n",
       "│ dense_2 (\u001b[38;5;33mDense\u001b[0m)                 │ (\u001b[38;5;45mNone\u001b[0m, \u001b[38;5;34m8\u001b[0m)              │           \u001b[38;5;34m520\u001b[0m │\n",
       "├─────────────────────────────────┼────────────────────────┼───────────────┤\n",
       "│ dropout_2 (\u001b[38;5;33mDropout\u001b[0m)             │ (\u001b[38;5;45mNone\u001b[0m, \u001b[38;5;34m8\u001b[0m)              │             \u001b[38;5;34m0\u001b[0m │\n",
       "├─────────────────────────────────┼────────────────────────┼───────────────┤\n",
       "│ dense_3 (\u001b[38;5;33mDense\u001b[0m)                 │ (\u001b[38;5;45mNone\u001b[0m, \u001b[38;5;34m1\u001b[0m)              │             \u001b[38;5;34m9\u001b[0m │\n",
       "└─────────────────────────────────┴────────────────────────┴───────────────┘\n"
      ]
     },
     "metadata": {},
     "output_type": "display_data"
    },
    {
     "data": {
      "text/html": [
       "<pre style=\"white-space:pre;overflow-x:auto;line-height:normal;font-family:Menlo,'DejaVu Sans Mono',consolas,'Courier New',monospace\"><span style=\"font-weight: bold\"> Total params: </span><span style=\"color: #00af00; text-decoration-color: #00af00\">7,249</span> (28.32 KB)\n",
       "</pre>\n"
      ],
      "text/plain": [
       "\u001b[1m Total params: \u001b[0m\u001b[38;5;34m7,249\u001b[0m (28.32 KB)\n"
      ]
     },
     "metadata": {},
     "output_type": "display_data"
    },
    {
     "data": {
      "text/html": [
       "<pre style=\"white-space:pre;overflow-x:auto;line-height:normal;font-family:Menlo,'DejaVu Sans Mono',consolas,'Courier New',monospace\"><span style=\"font-weight: bold\"> Trainable params: </span><span style=\"color: #00af00; text-decoration-color: #00af00\">6,993</span> (27.32 KB)\n",
       "</pre>\n"
      ],
      "text/plain": [
       "\u001b[1m Trainable params: \u001b[0m\u001b[38;5;34m6,993\u001b[0m (27.32 KB)\n"
      ]
     },
     "metadata": {},
     "output_type": "display_data"
    },
    {
     "data": {
      "text/html": [
       "<pre style=\"white-space:pre;overflow-x:auto;line-height:normal;font-family:Menlo,'DejaVu Sans Mono',consolas,'Courier New',monospace\"><span style=\"font-weight: bold\"> Non-trainable params: </span><span style=\"color: #00af00; text-decoration-color: #00af00\">256</span> (1.00 KB)\n",
       "</pre>\n"
      ],
      "text/plain": [
       "\u001b[1m Non-trainable params: \u001b[0m\u001b[38;5;34m256\u001b[0m (1.00 KB)\n"
      ]
     },
     "metadata": {},
     "output_type": "display_data"
    }
   ],
   "source": [
    "model_nn = Sequential()\n",
    "model_nn.add(InputLayer(input_shape=(X_train.shape[1],)))\n",
    "model_nn.add(Dense(64, activation='leaky_relu'))\n",
    "model_nn.add(Dropout(0.2))\n",
    "model_nn.add(BatchNormalization())\n",
    "model_nn.add(Dense(64, activation='leaky_relu'))\n",
    "model_nn.add(Dropout(0.2))\n",
    "model_nn.add(BatchNormalization())\n",
    "model_nn.add(Dense(8, activation='leaky_relu'))\n",
    "model_nn.add(Dropout(0.2))\n",
    "model_nn.add(Dense(1, activation='sigmoid'))\n",
    "\n",
    "model_nn.compile(optimizer=Adam(), loss = 'binary_crossentropy', metrics=['accuracy'])\n",
    "\n",
    "model_nn.summary()"
   ]
  },
  {
   "cell_type": "markdown",
   "metadata": {},
   "source": [
    "Implementing early stopping to monitor validation loss, stopping training if no improvement occurs for 10 epochs and restoring the best model weights. The neural network is trained on X_train and y_train with a batch size of 16 for up to 50 epochs, using X_val and y_val for validation. The training process includes two callbacks: EarlyStopping to prevent overfitting and PlotLossesKeras to visualize training and validation loss curves in real-time, aiding in performance monitoring."
   ]
  },
  {
   "cell_type": "code",
   "execution_count": 33,
   "metadata": {},
   "outputs": [
    {
     "data": {
      "image/png": "[encoded data removed]",
      "text/plain": [
       "<Figure size 1200x800 with 2 Axes>"
      ]
     },
     "metadata": {},
     "output_type": "display_data"
    },
    {
     "name": "stdout",
     "output_type": "stream",
     "text": [
      "accuracy\n",
      "\ttraining         \t (min:    0.640, max:    0.671, cur:    0.670)\n",
      "\tvalidation       \t (min:    0.664, max:    0.674, cur:    0.669)\n",
      "Loss\n",
      "\ttraining         \t (min:    0.607, max:    0.641, cur:    0.607)\n",
      "\tvalidation       \t (min:    0.603, max:    0.608, cur:    0.605)\n",
      "\u001b[1m1861/1861\u001b[0m \u001b[32m━━━━━━━━━━━━━━━━━━━━\u001b[0m\u001b[37m\u001b[0m \u001b[1m2s\u001b[0m 1ms/step - accuracy: 0.6692 - loss: 0.6071 - val_accuracy: 0.6693 - val_loss: 0.6052\n"
     ]
    }
   ],
   "source": [
    "callback = EarlyStopping(patience=10, monitor='val_loss',restore_best_weights=True)\n",
    "\n",
    "history = model_nn.fit(X_train, y_train, batch_size=16, epochs=50, validation_data = (X_val,y_val), callbacks=[callback, PlotLossesKeras()])"
   ]
  },
  {
   "cell_type": "markdown",
   "metadata": {},
   "source": [
    "Evaluating NN model"
   ]
  },
  {
   "cell_type": "code",
   "execution_count": 38,
   "metadata": {},
   "outputs": [
    {
     "name": "stdout",
     "output_type": "stream",
     "text": [
      "\u001b[1m194/194\u001b[0m \u001b[32m━━━━━━━━━━━━━━━━━━━━\u001b[0m\u001b[37m\u001b[0m \u001b[1m0s\u001b[0m 697us/step\n",
      "Log Loss: 0.6041\n",
      "Brier Score: 0.2083\n",
      "Accuracy: 0.6727\n",
      "F1 Score: 0.7482\n",
      "Recall: 0.8184\n",
      "Precision: 0.6891\n",
      "ROC AUC: 0.7151\n"
     ]
    },
    {
     "data": {
      "image/png": "[encoded data removed]",
      "text/plain": [
       "<Figure size 800x600 with 1 Axes>"
      ]
     },
     "metadata": {},
     "output_type": "display_data"
    }
   ],
   "source": [
    "y_pred_nn = model_nn.predict(X_test)\n",
    "m = evaluate_model(y_test, y_pred_nn)"
   ]
  },
  {
   "cell_type": "markdown",
   "metadata": {},
   "source": [
    "The Keras Neural Network model performs slightly better in some metrics, with a Log Loss of 0.6041 and a Brier Score of 0.2083, indicating marginally better probability calibration than XGBoost. Its Accuracy (67.27%) is nearly identical to XGBoost. The F1 Score (0.7482) is slightly lower, driven by a Recall of 81.84% (lower than XGBoost) and a Precision of 68.91% (slightly higher). The ROC AUC of 0.7151 suggests better discriminative power than XGBoost. The Confusion Matrix reports 1151 true negatives, 3006 true positives, 1356 false positives, and 667 false negatives, showing fewer false positives but more false negatives compared to XGBoost."
   ]
  },
  {
   "cell_type": "markdown",
   "metadata": {},
   "source": [
    "Saving neural network model for predictions"
   ]
  },
  {
   "cell_type": "code",
   "execution_count": 35,
   "metadata": {},
   "outputs": [],
   "source": [
    "model_nn.save('NN.keras')"
   ]
  },
  {
   "cell_type": "markdown",
   "metadata": {},
   "source": [
    "## Model comparison"
   ]
  },
  {
   "cell_type": "markdown",
   "metadata": {},
   "source": [
    "Both models perform similarly, with closely aligned Accuracy (~67.3%), F1 Scores (~0.75), and Brier Scores (~0.21). The Keras NN edges out slightly with a lower Log Loss (0.6041 vs. 0.6076) and higher ROC AUC (0.7151 vs. 0.7093), indicating better probability calibration and discriminative ability. However, XGBoost has a higher Recall (82.44% vs. 81.84%), making it better at capturing positive cases, which may be critical depending on the use case (e.g., prioritizing true positives). Conversely, the Keras NN has slightly better Precision (68.91% vs. 68.77%) and fewer false positives (1356 vs. 1375), which could be advantageous if minimizing incorrect positive predictions is key."
   ]
  }
 ],
 "metadata": {
  "kernelspec": {
   "display_name": "Python 3",
   "language": "python",
   "name": "python3"
  },
  "language_info": {
   "codemirror_mode": {
    "name": "ipython",
    "version": 3
   },
   "file_extension": ".py",
   "mimetype": "text/x-python",
   "name": "python",
   "nbconvert_exporter": "python",
   "pygments_lexer": "ipython3",
   "version": "3.12.6"
  }
 },
 "nbformat": 4,
 "nbformat_minor": 2
}
